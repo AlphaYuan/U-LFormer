{
 "cells": [
  {
   "cell_type": "markdown",
   "metadata": {},
   "source": [
    "# Evaluation of U-LFormer for single trajectory task and ensemble task in Single-Particle Tracking"
   ]
  },
  {
   "cell_type": "markdown",
   "metadata": {},
   "source": [
    "## Single Trajectory Task"
   ]
  },
  {
   "cell_type": "code",
   "execution_count": 1,
   "metadata": {},
   "outputs": [],
   "source": [
    "import torch\n",
    "import json\n",
    "import pandas as pd\n",
    "from no_pipeline_eval_metrics import test_save"
   ]
  },
  {
   "cell_type": "markdown",
   "metadata": {},
   "source": [
    "### Evaluation for trajectories of length 200"
   ]
  },
  {
   "cell_type": "code",
   "execution_count": 2,
   "metadata": {},
   "outputs": [
    {
     "name": "stdout",
     "output_type": "stream",
     "text": [
      "<built-in function log10>\n"
     ]
    },
    {
     "name": "stderr",
     "output_type": "stream",
     "text": [
      "2025-03-31 20:18:06,109 | INFO : Creating model ...\n",
      "2025-03-31 20:18:06,198 | INFO : Total number of parameters: 3057318\n",
      "2025-03-31 20:18:06,199 | INFO : Trainable parameters: 3057318\n"
     ]
    },
    {
     "name": "stdout",
     "output_type": "stream",
     "text": [
      "noLSTM: False, noTrans: False\n",
      "Loaded model from ../model_chkpt/_2024-11-28_17-26-55_0Id/checkpoints/model_best_seg.pth. Epoch: 882\n",
      "<built-in function log10>\n"
     ]
    },
    {
     "name": "stderr",
     "output_type": "stream",
     "text": [
      "2025-03-31 20:18:15,415 | INFO : 3000 samples will be used for testing\n"
     ]
    },
    {
     "name": "stdout",
     "output_type": "stream",
     "text": [
      "max_len:  200 200\n"
     ]
    },
    {
     "name": "stderr",
     "output_type": "stream",
     "text": [
      "2025-03-31 20:18:19,469 | INFO : epoch_a_mae: 0.08599461540579796, epoch_k_mae:0.07335781902074814\n",
      "2025-03-31 20:18:19,472 | INFO : epoch_a_mse: 0.019773558527231217, epoch_k_mse:0.015294898580759764\n"
     ]
    },
    {
     "name": "stdout",
     "output_type": "stream",
     "text": [
      "-2 0\n",
      "[(1, 0.2)]\n",
      "{'a_mae': 0.08599461540579796, 'k_mae': 0.07335781902074814, 'a_mse': 0.019773558527231217, 'k_mse': 0.015294898580759764, 'rmse_CP': 1.2441666837394074, 'JI': 0.7417682499649713, 'alpha': 0.12718640852173474, 'D': 0.09016787413677055, 'state': 0.0}\n",
      "{'a_mae': 0.08599461540579796, 'k_mae': 0.07335781902074814, 'a_mse': 0.019773558527231217, 'k_mse': 0.015294898580759764, 'rmse_CP': 1.2441666837394074, 'JI': 0.7417682499649713, 'alpha': 0.12718640852173474, 'D': 0.09016787413677055, 'state': 0.0, 'model': '0Id', 'val_file': '../data/1104_multi_state/test/test0_Nall_300000_T200_200_K-3_3.csv'}\n"
     ]
    }
   ],
   "source": [
    "state = None\n",
    "\n",
    "\n",
    "device = torch.device(\"cuda:5\" if torch.cuda.is_available() else \"cpu\")\n",
    "\n",
    "length='200'\n",
    "addre = '../model_chkpt/_2024-11-28_17-26-55_0Id/'\n",
    "valid_file = '../data/1104_multi_state/test/test0_Nall_300000_T200_200_K-3_3.csv'\n",
    "\n",
    "results_all = []\n",
    "save_dir = addre\n",
    "results = test_save(device, addre, valid_file, save_dir, offset=-1, model_cp=False)\n",
    "results['model'] = addre[-4:-1]\n",
    "results['val_file'] = valid_file\n",
    "results_all.append(results)\n",
    "\n",
    "df = pd.DataFrame(results_all)\n",
    "df.to_excel(f'../results/results_{length}.xlsx', index=False)\n",
    "with open(f'../results/results_{length}.json', 'w') as f:\n",
    "    json.dump(results_all, f, indent=4)\n",
    "print(results)"
   ]
  },
  {
   "cell_type": "markdown",
   "metadata": {},
   "source": [
    "### Evaluation for trajectories of length 20 to 200"
   ]
  },
  {
   "cell_type": "code",
   "execution_count": 3,
   "metadata": {},
   "outputs": [
    {
     "name": "stderr",
     "output_type": "stream",
     "text": [
      "/data1/jiangy/U-LFormer/code/no_pipeline_eval_metrics.py:247: VisibleDeprecationWarning: Creating an ndarray from ragged nested sequences (which is a list-or-tuple of lists-or-tuples-or ndarrays with different lengths or shapes) is deprecated. If you meant to do this, you must specify 'dtype=object' when creating the ndarray.\n",
      "  test_set1 = np.asarray(valid_set1)\n"
     ]
    },
    {
     "name": "stdout",
     "output_type": "stream",
     "text": [
      "<built-in function log10>\n"
     ]
    },
    {
     "name": "stderr",
     "output_type": "stream",
     "text": [
      "2025-03-31 20:18:45,711 | INFO : Creating model ...\n",
      "2025-03-31 20:18:45,747 | INFO : Total number of parameters: 3057318\n",
      "2025-03-31 20:18:45,748 | INFO : Trainable parameters: 3057318\n"
     ]
    },
    {
     "name": "stdout",
     "output_type": "stream",
     "text": [
      "noLSTM: False, noTrans: False\n",
      "Loaded model from /data1/jiangy/andi_tcu/code/andi_2/output/_2024-12-06_14-03-17_k9l/checkpoints/model_best_seg.pth. Epoch: 448\n"
     ]
    },
    {
     "name": "stderr",
     "output_type": "stream",
     "text": [
      "/data1/jiangy/U-LFormer/code/no_pipeline_eval_metrics.py:354: VisibleDeprecationWarning: Creating an ndarray from ragged nested sequences (which is a list-or-tuple of lists-or-tuples-or ndarrays with different lengths or shapes) is deprecated. If you meant to do this, you must specify 'dtype=object' when creating the ndarray.\n",
      "  train_set1 = np.asarray(train_set1)\n"
     ]
    },
    {
     "name": "stdout",
     "output_type": "stream",
     "text": [
      "<built-in function log10>\n"
     ]
    },
    {
     "name": "stderr",
     "output_type": "stream",
     "text": [
      "2025-03-31 20:18:48,660 | INFO : 3000 samples will be used for testing\n"
     ]
    },
    {
     "name": "stdout",
     "output_type": "stream",
     "text": [
      "max_len:  200 200\n"
     ]
    },
    {
     "name": "stderr",
     "output_type": "stream",
     "text": [
      "2025-03-31 20:18:49,533 | INFO : epoch_a_mae: 0.17030148953199387, epoch_k_mae:0.11524176448583603\n",
      "2025-03-31 20:18:49,534 | INFO : epoch_a_mse: 0.04358629509806633, epoch_k_mse:0.02070410968735814\n"
     ]
    },
    {
     "name": "stdout",
     "output_type": "stream",
     "text": [
      "-2 0\n",
      "[(1, 0.2)]\n",
      "{'a_mae': 0.17030148953199387, 'k_mae': 0.11524176448583603, 'a_mse': 0.04358629509806633, 'k_mse': 0.02070410968735814, 'rmse_CP': 1.1635245073107632, 'JI': 0.7979057591623037, 'alpha': 0.1438537404858177, 'D': 0.08087426887832969, 'state': 0.0}\n",
      "<built-in function log10>\n"
     ]
    },
    {
     "name": "stderr",
     "output_type": "stream",
     "text": [
      "2025-03-31 20:18:54,197 | INFO : Creating model ...\n",
      "2025-03-31 20:18:54,234 | INFO : Total number of parameters: 3057318\n",
      "2025-03-31 20:18:54,236 | INFO : Trainable parameters: 3057318\n",
      "2025-03-31 20:18:54,375 | INFO : 300 samples will be used for testing\n"
     ]
    },
    {
     "name": "stdout",
     "output_type": "stream",
     "text": [
      "noLSTM: False, noTrans: False\n",
      "Loaded model from /data1/jiangy/andi_tcu/code/andi_2/output/_2024-12-06_14-03-17_k9l/checkpoints/model_best_seg.pth. Epoch: 448\n",
      "<built-in function log10>\n",
      "max_len:  200 20\n"
     ]
    },
    {
     "name": "stderr",
     "output_type": "stream",
     "text": [
      "2025-03-31 20:18:54,845 | INFO : epoch_a_mae: 0.25002458691596985, epoch_k_mae:0.15767870843410492\n",
      "2025-03-31 20:18:54,846 | INFO : epoch_a_mse: 0.06627830862998962, epoch_k_mse:0.026816610246896744\n"
     ]
    },
    {
     "name": "stdout",
     "output_type": "stream",
     "text": [
      "-7 -6\n",
      "[(30, 20)]\n",
      "{'a_mae': 0.25002458691596985, 'k_mae': 0.15767870843410492, 'a_mse': 0.06627830862998962, 'k_mse': 0.026816610246896744, 'rmse_CP': 0.0, 'JI': 0.8881578947368421, 'alpha': 0.205052276133938, 'D': 0.1040788197693272, 'state': 0.0}\n",
      "<built-in function log10>\n"
     ]
    },
    {
     "name": "stderr",
     "output_type": "stream",
     "text": [
      "2025-03-31 20:18:55,094 | INFO : Creating model ...\n",
      "2025-03-31 20:18:55,133 | INFO : Total number of parameters: 3057318\n",
      "2025-03-31 20:18:55,135 | INFO : Trainable parameters: 3057318\n"
     ]
    },
    {
     "name": "stdout",
     "output_type": "stream",
     "text": [
      "noLSTM: False, noTrans: False\n",
      "Loaded model from /data1/jiangy/andi_tcu/code/andi_2/output/_2024-12-06_14-03-17_k9l/checkpoints/model_best_seg.pth. Epoch: 448\n",
      "<built-in function log10>\n"
     ]
    },
    {
     "name": "stderr",
     "output_type": "stream",
     "text": [
      "2025-03-31 20:18:55,300 | INFO : 300 samples will be used for testing\n"
     ]
    },
    {
     "name": "stdout",
     "output_type": "stream",
     "text": [
      "max_len:  200 40\n"
     ]
    },
    {
     "name": "stderr",
     "output_type": "stream",
     "text": [
      "2025-03-31 20:18:55,764 | INFO : epoch_a_mae: 0.2357429713010788, epoch_k_mae:0.15212738513946533\n",
      "2025-03-31 20:18:55,765 | INFO : epoch_a_mse: 0.06303160637617111, epoch_k_mse:0.026602214202284813\n"
     ]
    },
    {
     "name": "stdout",
     "output_type": "stream",
     "text": [
      "-4 -2\n",
      "[(5, 1)]\n",
      "{'a_mae': 0.2357429713010788, 'k_mae': 0.15212738513946533, 'a_mse': 0.06303160637617111, 'k_mse': 0.026602214202284813, 'rmse_CP': 1.12765461834358, 'JI': 0.8990536277602523, 'alpha': 0.18085812242992536, 'D': 0.10124399563289833, 'state': 0.0}\n",
      "<built-in function log10>\n"
     ]
    },
    {
     "name": "stderr",
     "output_type": "stream",
     "text": [
      "2025-03-31 20:18:56,101 | INFO : Creating model ...\n",
      "2025-03-31 20:18:56,140 | INFO : Total number of parameters: 3057318\n",
      "2025-03-31 20:18:56,141 | INFO : Trainable parameters: 3057318\n"
     ]
    },
    {
     "name": "stdout",
     "output_type": "stream",
     "text": [
      "noLSTM: False, noTrans: False\n",
      "Loaded model from /data1/jiangy/andi_tcu/code/andi_2/output/_2024-12-06_14-03-17_k9l/checkpoints/model_best_seg.pth. Epoch: 448\n",
      "<built-in function log10>\n"
     ]
    },
    {
     "name": "stderr",
     "output_type": "stream",
     "text": [
      "2025-03-31 20:18:56,336 | INFO : 300 samples will be used for testing\n"
     ]
    },
    {
     "name": "stdout",
     "output_type": "stream",
     "text": [
      "max_len:  200 60\n"
     ]
    },
    {
     "name": "stderr",
     "output_type": "stream",
     "text": [
      "2025-03-31 20:18:56,850 | INFO : epoch_a_mae: 0.21692194044589996, epoch_k_mae:0.1404903680086136\n",
      "2025-03-31 20:18:56,852 | INFO : epoch_a_mse: 0.05696406215429306, epoch_k_mse:0.024639176204800606\n"
     ]
    },
    {
     "name": "stdout",
     "output_type": "stream",
     "text": [
      "-3 -1\n",
      "[(2, 0.5)]\n",
      "{'a_mae': 0.21692194044589996, 'k_mae': 0.1404903680086136, 'a_mse': 0.05696406215429306, 'k_mse': 0.024639176204800606, 'rmse_CP': 0.7175830078355593, 'JI': 0.8508771929824561, 'alpha': 0.14367325954114477, 'D': 0.04048401936449493, 'state': 0.0}\n",
      "<built-in function log10>\n"
     ]
    },
    {
     "name": "stderr",
     "output_type": "stream",
     "text": [
      "2025-03-31 20:18:57,371 | INFO : Creating model ...\n",
      "2025-03-31 20:18:57,417 | INFO : Total number of parameters: 3057318\n",
      "2025-03-31 20:18:57,418 | INFO : Trainable parameters: 3057318\n"
     ]
    },
    {
     "name": "stdout",
     "output_type": "stream",
     "text": [
      "noLSTM: False, noTrans: False\n",
      "Loaded model from /data1/jiangy/andi_tcu/code/andi_2/output/_2024-12-06_14-03-17_k9l/checkpoints/model_best_seg.pth. Epoch: 448\n"
     ]
    },
    {
     "name": "stderr",
     "output_type": "stream",
     "text": [
      "2025-03-31 20:18:57,756 | INFO : 300 samples will be used for testing\n"
     ]
    },
    {
     "name": "stdout",
     "output_type": "stream",
     "text": [
      "<built-in function log10>\n",
      "max_len:  200 80\n"
     ]
    },
    {
     "name": "stderr",
     "output_type": "stream",
     "text": [
      "2025-03-31 20:18:58,363 | INFO : epoch_a_mae: 0.1955101191997528, epoch_k_mae:0.12868012487888336\n",
      "2025-03-31 20:18:58,365 | INFO : epoch_a_mse: 0.050607677549123764, epoch_k_mse:0.021824495866894722\n"
     ]
    },
    {
     "name": "stdout",
     "output_type": "stream",
     "text": [
      "-3 0\n",
      "[(2, 0.2)]\n",
      "{'a_mae': 0.1955101191997528, 'k_mae': 0.12868012487888336, 'a_mse': 0.050607677549123764, 'k_mse': 0.021824495866894722, 'rmse_CP': 1.336155205978436, 'JI': 0.8031088082901554, 'alpha': 0.15718937702183525, 'D': 0.06309301069890715, 'state': 0.0}\n",
      "<built-in function log10>\n"
     ]
    },
    {
     "name": "stderr",
     "output_type": "stream",
     "text": [
      "2025-03-31 20:18:58,933 | INFO : Creating model ...\n",
      "2025-03-31 20:18:58,983 | INFO : Total number of parameters: 3057318\n",
      "2025-03-31 20:18:58,985 | INFO : Trainable parameters: 3057318\n"
     ]
    },
    {
     "name": "stdout",
     "output_type": "stream",
     "text": [
      "noLSTM: False, noTrans: False\n",
      "Loaded model from /data1/jiangy/andi_tcu/code/andi_2/output/_2024-12-06_14-03-17_k9l/checkpoints/model_best_seg.pth. Epoch: 448\n"
     ]
    },
    {
     "name": "stderr",
     "output_type": "stream",
     "text": [
      "2025-03-31 20:18:59,433 | INFO : 300 samples will be used for testing\n"
     ]
    },
    {
     "name": "stdout",
     "output_type": "stream",
     "text": [
      "<built-in function log10>\n",
      "max_len:  200 100\n"
     ]
    },
    {
     "name": "stderr",
     "output_type": "stream",
     "text": [
      "2025-03-31 20:18:59,877 | INFO : epoch_a_mae: 0.18510566651821136, epoch_k_mae:0.12362543493509293\n",
      "2025-03-31 20:18:59,878 | INFO : epoch_a_mse: 0.050474923104047775, epoch_k_mse:0.023195073008537292\n"
     ]
    },
    {
     "name": "stdout",
     "output_type": "stream",
     "text": [
      "-2 0\n",
      "[(1, 0.2)]\n",
      "{'a_mae': 0.18510566651821136, 'k_mae': 0.12362543493509293, 'a_mse': 0.050474923104047775, 'k_mse': 0.023195073008537292, 'rmse_CP': 1.3069702392272293, 'JI': 0.7737556561085973, 'alpha': 0.18200269933512062, 'D': 0.0722546916011576, 'state': 0.0}\n",
      "<built-in function log10>\n"
     ]
    },
    {
     "name": "stderr",
     "output_type": "stream",
     "text": [
      "2025-03-31 20:19:00,556 | INFO : Creating model ...\n",
      "2025-03-31 20:19:00,599 | INFO : Total number of parameters: 3057318\n",
      "2025-03-31 20:19:00,601 | INFO : Trainable parameters: 3057318\n"
     ]
    },
    {
     "name": "stdout",
     "output_type": "stream",
     "text": [
      "noLSTM: False, noTrans: False\n",
      "Loaded model from /data1/jiangy/andi_tcu/code/andi_2/output/_2024-12-06_14-03-17_k9l/checkpoints/model_best_seg.pth. Epoch: 448\n"
     ]
    },
    {
     "name": "stderr",
     "output_type": "stream",
     "text": [
      "2025-03-31 20:19:01,022 | INFO : 300 samples will be used for testing\n"
     ]
    },
    {
     "name": "stdout",
     "output_type": "stream",
     "text": [
      "<built-in function log10>\n",
      "max_len:  200 120\n"
     ]
    },
    {
     "name": "stderr",
     "output_type": "stream",
     "text": [
      "2025-03-31 20:19:01,464 | INFO : epoch_a_mae: 0.16024792194366455, epoch_k_mae:0.11252743750810623\n",
      "2025-03-31 20:19:01,466 | INFO : epoch_a_mse: 0.041677121073007584, epoch_k_mse:0.021123258396983147\n"
     ]
    },
    {
     "name": "stdout",
     "output_type": "stream",
     "text": [
      "-2 0\n",
      "[(1, 0.2)]\n",
      "{'a_mae': 0.16024792194366455, 'k_mae': 0.11252743750810623, 'a_mse': 0.041677121073007584, 'k_mse': 0.021123258396983147, 'rmse_CP': 1.1575836902790226, 'JI': 0.769857433808554, 'alpha': 0.15770573553153985, 'D': 0.08508312714232318, 'state': 0.0}\n",
      "<built-in function log10>\n"
     ]
    },
    {
     "name": "stderr",
     "output_type": "stream",
     "text": [
      "2025-03-31 20:19:02,292 | INFO : Creating model ...\n",
      "2025-03-31 20:19:02,328 | INFO : Total number of parameters: 3057318\n",
      "2025-03-31 20:19:02,330 | INFO : Trainable parameters: 3057318\n"
     ]
    },
    {
     "name": "stdout",
     "output_type": "stream",
     "text": [
      "noLSTM: False, noTrans: False\n",
      "Loaded model from /data1/jiangy/andi_tcu/code/andi_2/output/_2024-12-06_14-03-17_k9l/checkpoints/model_best_seg.pth. Epoch: 448\n"
     ]
    },
    {
     "name": "stderr",
     "output_type": "stream",
     "text": [
      "2025-03-31 20:19:02,792 | INFO : 300 samples will be used for testing\n"
     ]
    },
    {
     "name": "stdout",
     "output_type": "stream",
     "text": [
      "<built-in function log10>\n",
      "max_len:  200 140\n"
     ]
    },
    {
     "name": "stderr",
     "output_type": "stream",
     "text": [
      "2025-03-31 20:19:03,231 | INFO : epoch_a_mae: 0.14279134571552277, epoch_k_mae:0.099041648209095\n",
      "2025-03-31 20:19:03,232 | INFO : epoch_a_mse: 0.03380000963807106, epoch_k_mse:0.0177764892578125\n"
     ]
    },
    {
     "name": "stdout",
     "output_type": "stream",
     "text": [
      "-2 0\n",
      "[(1, 0.2)]\n",
      "{'a_mae': 0.14279134571552277, 'k_mae': 0.099041648209095, 'a_mse': 0.03380000963807106, 'k_mse': 0.0177764892578125, 'rmse_CP': 0.9623597890790968, 'JI': 0.7888888888888889, 'alpha': 0.1284911137860651, 'D': 0.18308898078466068, 'state': 0.0}\n",
      "<built-in function log10>\n"
     ]
    },
    {
     "name": "stderr",
     "output_type": "stream",
     "text": [
      "2025-03-31 20:19:04,238 | INFO : Creating model ...\n",
      "2025-03-31 20:19:04,275 | INFO : Total number of parameters: 3057318\n",
      "2025-03-31 20:19:04,276 | INFO : Trainable parameters: 3057318\n"
     ]
    },
    {
     "name": "stdout",
     "output_type": "stream",
     "text": [
      "noLSTM: False, noTrans: False\n",
      "Loaded model from /data1/jiangy/andi_tcu/code/andi_2/output/_2024-12-06_14-03-17_k9l/checkpoints/model_best_seg.pth. Epoch: 448\n",
      "<built-in function log10>\n"
     ]
    },
    {
     "name": "stderr",
     "output_type": "stream",
     "text": [
      "2025-03-31 20:19:04,797 | INFO : 300 samples will be used for testing\n"
     ]
    },
    {
     "name": "stdout",
     "output_type": "stream",
     "text": [
      "max_len:  200 160\n"
     ]
    },
    {
     "name": "stderr",
     "output_type": "stream",
     "text": [
      "2025-03-31 20:19:05,309 | INFO : epoch_a_mae: 0.11947029829025269, epoch_k_mae:0.08987350016832352\n",
      "2025-03-31 20:19:05,310 | INFO : epoch_a_mse: 0.03014904074370861, epoch_k_mse:0.01703828014433384\n"
     ]
    },
    {
     "name": "stdout",
     "output_type": "stream",
     "text": [
      "-1 0\n",
      "[(0.5, 0.2)]\n",
      "{'a_mae': 0.11947029829025269, 'k_mae': 0.08987350016832352, 'a_mse': 0.03014904074370861, 'k_mse': 0.01703828014433384, 'rmse_CP': 1.1665771537447052, 'JI': 0.7943760984182777, 'alpha': 0.10970657887820638, 'D': 0.04557508499695234, 'state': 0.0}\n",
      "<built-in function log10>\n"
     ]
    },
    {
     "name": "stderr",
     "output_type": "stream",
     "text": [
      "2025-03-31 20:19:06,429 | INFO : Creating model ...\n",
      "2025-03-31 20:19:06,485 | INFO : Total number of parameters: 3057318\n",
      "2025-03-31 20:19:06,486 | INFO : Trainable parameters: 3057318\n"
     ]
    },
    {
     "name": "stdout",
     "output_type": "stream",
     "text": [
      "noLSTM: False, noTrans: False\n",
      "Loaded model from /data1/jiangy/andi_tcu/code/andi_2/output/_2024-12-06_14-03-17_k9l/checkpoints/model_best_seg.pth. Epoch: 448\n",
      "<built-in function log10>\n"
     ]
    },
    {
     "name": "stderr",
     "output_type": "stream",
     "text": [
      "2025-03-31 20:19:07,097 | INFO : 300 samples will be used for testing\n"
     ]
    },
    {
     "name": "stdout",
     "output_type": "stream",
     "text": [
      "max_len:  200 180\n"
     ]
    },
    {
     "name": "stderr",
     "output_type": "stream",
     "text": [
      "2025-03-31 20:19:07,554 | INFO : epoch_a_mae: 0.10760331898927689, epoch_k_mae:0.07758643478155136\n",
      "2025-03-31 20:19:07,555 | INFO : epoch_a_mse: 0.023504359647631645, epoch_k_mse:0.014380713924765587\n"
     ]
    },
    {
     "name": "stdout",
     "output_type": "stream",
     "text": [
      "-2 0\n",
      "[(1, 0.2)]\n",
      "{'a_mae': 0.10760331898927689, 'k_mae': 0.07758643478155136, 'a_mse': 0.023504359647631645, 'k_mse': 0.014380713924765587, 'rmse_CP': 1.1123520975572851, 'JI': 0.7341389728096677, 'alpha': 0.12149224733962988, 'D': 0.022993468760167342, 'state': 0.0}\n",
      "<built-in function log10>\n"
     ]
    },
    {
     "name": "stderr",
     "output_type": "stream",
     "text": [
      "2025-03-31 20:19:08,801 | INFO : Creating model ...\n",
      "2025-03-31 20:19:08,850 | INFO : Total number of parameters: 3057318\n",
      "2025-03-31 20:19:08,851 | INFO : Trainable parameters: 3057318\n"
     ]
    },
    {
     "name": "stdout",
     "output_type": "stream",
     "text": [
      "noLSTM: False, noTrans: False\n",
      "Loaded model from /data1/jiangy/andi_tcu/code/andi_2/output/_2024-12-06_14-03-17_k9l/checkpoints/model_best_seg.pth. Epoch: 448\n",
      "<built-in function log10>\n"
     ]
    },
    {
     "name": "stderr",
     "output_type": "stream",
     "text": [
      "2025-03-31 20:19:09,411 | INFO : 300 samples will be used for testing\n"
     ]
    },
    {
     "name": "stdout",
     "output_type": "stream",
     "text": [
      "max_len:  200 200\n"
     ]
    },
    {
     "name": "stderr",
     "output_type": "stream",
     "text": [
      "2025-03-31 20:19:09,898 | INFO : epoch_a_mae: 0.08959672600030899, epoch_k_mae:0.07078660279512405\n",
      "2025-03-31 20:19:09,899 | INFO : epoch_a_mse: 0.019375842064619064, epoch_k_mse:0.01364478562027216\n"
     ]
    },
    {
     "name": "stdout",
     "output_type": "stream",
     "text": [
      "-2 1\n",
      "[(1, 0.1)]\n",
      "{'a_mae': 0.08959672600030899, 'k_mae': 0.07078660279512405, 'a_mse': 0.019375842064619064, 'k_mse': 0.01364478562027216, 'rmse_CP': 1.2620630056788094, 'JI': 0.7023959646910467, 'alpha': 0.1201853506998038, 'D': 0.10627649917798568, 'state': 0.0}\n",
      "[{'a_mae': 0.17030148953199387, 'k_mae': 0.11524176448583603, 'a_mse': 0.04358629509806633, 'k_mse': 0.02070410968735814, 'rmse_CP': 1.1635245073107632, 'JI': 0.7979057591623037, 'alpha': 0.1438537404858177, 'D': 0.08087426887832969, 'state': 0.0, 'model': 'k9l', 'val_file': '/data1/jiangy/andi_tcu/code/andi_2/datasets/andi_set/1110_multi_state/test/merge.csv', 'call_id': 0}, {'a_mae': 0.25002458691596985, 'k_mae': 0.15767870843410492, 'a_mse': 0.06627830862998962, 'k_mse': 0.026816610246896744, 'rmse_CP': 0.0, 'JI': 0.8881578947368421, 'alpha': 0.205052276133938, 'D': 0.1040788197693272, 'state': 0.0, 'model': 'k9l', 'val_file': '/data1/jiangy/andi_tcu/code/andi_2/datasets/andi_set/1110_multi_state/test/test0_Nall_30000_T20_20_K-3_3.csv', 'call_id': 1}, {'a_mae': 0.2357429713010788, 'k_mae': 0.15212738513946533, 'a_mse': 0.06303160637617111, 'k_mse': 0.026602214202284813, 'rmse_CP': 1.12765461834358, 'JI': 0.8990536277602523, 'alpha': 0.18085812242992536, 'D': 0.10124399563289833, 'state': 0.0, 'model': 'k9l', 'val_file': '/data1/jiangy/andi_tcu/code/andi_2/datasets/andi_set/1110_multi_state/test/test0_Nall_30000_T40_40_K-3_3.csv', 'call_id': 2}, {'a_mae': 0.21692194044589996, 'k_mae': 0.1404903680086136, 'a_mse': 0.05696406215429306, 'k_mse': 0.024639176204800606, 'rmse_CP': 0.7175830078355593, 'JI': 0.8508771929824561, 'alpha': 0.14367325954114477, 'D': 0.04048401936449493, 'state': 0.0, 'model': 'k9l', 'val_file': '/data1/jiangy/andi_tcu/code/andi_2/datasets/andi_set/1110_multi_state/test/test0_Nall_30000_T60_60_K-3_3.csv', 'call_id': 3}, {'a_mae': 0.1955101191997528, 'k_mae': 0.12868012487888336, 'a_mse': 0.050607677549123764, 'k_mse': 0.021824495866894722, 'rmse_CP': 1.336155205978436, 'JI': 0.8031088082901554, 'alpha': 0.15718937702183525, 'D': 0.06309301069890715, 'state': 0.0, 'model': 'k9l', 'val_file': '/data1/jiangy/andi_tcu/code/andi_2/datasets/andi_set/1110_multi_state/test/test0_Nall_30000_T80_80_K-3_3.csv', 'call_id': 4}, {'a_mae': 0.18510566651821136, 'k_mae': 0.12362543493509293, 'a_mse': 0.050474923104047775, 'k_mse': 0.023195073008537292, 'rmse_CP': 1.3069702392272293, 'JI': 0.7737556561085973, 'alpha': 0.18200269933512062, 'D': 0.0722546916011576, 'state': 0.0, 'model': 'k9l', 'val_file': '/data1/jiangy/andi_tcu/code/andi_2/datasets/andi_set/1110_multi_state/test/test0_Nall_30000_T100_100_K-3_3.csv', 'call_id': 5}, {'a_mae': 0.16024792194366455, 'k_mae': 0.11252743750810623, 'a_mse': 0.041677121073007584, 'k_mse': 0.021123258396983147, 'rmse_CP': 1.1575836902790226, 'JI': 0.769857433808554, 'alpha': 0.15770573553153985, 'D': 0.08508312714232318, 'state': 0.0, 'model': 'k9l', 'val_file': '/data1/jiangy/andi_tcu/code/andi_2/datasets/andi_set/1110_multi_state/test/test0_Nall_30000_T120_120_K-3_3.csv', 'call_id': 6}, {'a_mae': 0.14279134571552277, 'k_mae': 0.099041648209095, 'a_mse': 0.03380000963807106, 'k_mse': 0.0177764892578125, 'rmse_CP': 0.9623597890790968, 'JI': 0.7888888888888889, 'alpha': 0.1284911137860651, 'D': 0.18308898078466068, 'state': 0.0, 'model': 'k9l', 'val_file': '/data1/jiangy/andi_tcu/code/andi_2/datasets/andi_set/1110_multi_state/test/test0_Nall_30000_T140_140_K-3_3.csv', 'call_id': 7}, {'a_mae': 0.11947029829025269, 'k_mae': 0.08987350016832352, 'a_mse': 0.03014904074370861, 'k_mse': 0.01703828014433384, 'rmse_CP': 1.1665771537447052, 'JI': 0.7943760984182777, 'alpha': 0.10970657887820638, 'D': 0.04557508499695234, 'state': 0.0, 'model': 'k9l', 'val_file': '/data1/jiangy/andi_tcu/code/andi_2/datasets/andi_set/1110_multi_state/test/test0_Nall_30000_T160_160_K-3_3.csv', 'call_id': 8}, {'a_mae': 0.10760331898927689, 'k_mae': 0.07758643478155136, 'a_mse': 0.023504359647631645, 'k_mse': 0.014380713924765587, 'rmse_CP': 1.1123520975572851, 'JI': 0.7341389728096677, 'alpha': 0.12149224733962988, 'D': 0.022993468760167342, 'state': 0.0, 'model': 'k9l', 'val_file': '/data1/jiangy/andi_tcu/code/andi_2/datasets/andi_set/1110_multi_state/test/test0_Nall_30000_T180_180_K-3_3.csv', 'call_id': 9}, {'a_mae': 0.08959672600030899, 'k_mae': 0.07078660279512405, 'a_mse': 0.019375842064619064, 'k_mse': 0.01364478562027216, 'rmse_CP': 1.2620630056788094, 'JI': 0.7023959646910467, 'alpha': 0.1201853506998038, 'D': 0.10627649917798568, 'state': 0.0, 'model': 'k9l', 'val_file': '/data1/jiangy/andi_tcu/code/andi_2/datasets/andi_set/1110_multi_state/test/test0_Nall_30000_T200_200_K-3_3.csv', 'call_id': 10}]\n"
     ]
    }
   ],
   "source": [
    "\n",
    "length='20-200'\n",
    "addre = '/data1/jiangy/andi_tcu/code/andi_2/output/_2024-12-06_14-03-17_k9l/'\n",
    "# Dataset of different trajectory length\n",
    "valid_file_list = [\n",
    "    '/data1/jiangy/andi_tcu/code/andi_2/datasets/andi_set/1110_multi_state/test/merge.csv', # len 20-200\n",
    "    '/data1/jiangy/andi_tcu/code/andi_2/datasets/andi_set/1110_multi_state/test/test0_Nall_30000_T20_20_K-3_3.csv', # len 20\n",
    "    '/data1/jiangy/andi_tcu/code/andi_2/datasets/andi_set/1110_multi_state/test/test0_Nall_30000_T40_40_K-3_3.csv', # len 40\n",
    "    '/data1/jiangy/andi_tcu/code/andi_2/datasets/andi_set/1110_multi_state/test/test0_Nall_30000_T60_60_K-3_3.csv', # len 60\n",
    "    '/data1/jiangy/andi_tcu/code/andi_2/datasets/andi_set/1110_multi_state/test/test0_Nall_30000_T80_80_K-3_3.csv', # len 80\n",
    "    '/data1/jiangy/andi_tcu/code/andi_2/datasets/andi_set/1110_multi_state/test/test0_Nall_30000_T100_100_K-3_3.csv', # len 100\n",
    "    '/data1/jiangy/andi_tcu/code/andi_2/datasets/andi_set/1110_multi_state/test/test0_Nall_30000_T120_120_K-3_3.csv', # len 120\n",
    "    '/data1/jiangy/andi_tcu/code/andi_2/datasets/andi_set/1110_multi_state/test/test0_Nall_30000_T140_140_K-3_3.csv', # len 140\n",
    "    '/data1/jiangy/andi_tcu/code/andi_2/datasets/andi_set/1110_multi_state/test/test0_Nall_30000_T160_160_K-3_3.csv', # len 160\n",
    "    '/data1/jiangy/andi_tcu/code/andi_2/datasets/andi_set/1110_multi_state/test/test0_Nall_30000_T180_180_K-3_3.csv', # len 180\n",
    "    '/data1/jiangy/andi_tcu/code/andi_2/datasets/andi_set/1110_multi_state/test/test0_Nall_30000_T200_200_K-3_3.csv', # 200\n",
    "    ]\n",
    "results_all = []\n",
    "i = 0\n",
    "for valid_file in valid_file_list:\n",
    "    save_dir = addre\n",
    "\n",
    "    results = test_save(device, addre, valid_file, save_dir, offset=-1, model_cp=False)\n",
    "    results['model'] = addre[-4:-1]\n",
    "    results['val_file'] = valid_file\n",
    "    results['call_id'] = i\n",
    "    i = i + 1\n",
    "    results_all.append(results)\n",
    "\n",
    "\n",
    "df = pd.DataFrame(results_all)\n",
    "df.to_excel(f'../results/results_{length}.xlsx', index=False)\n",
    "with open(f'../results/results_{length}.json', 'w') as f:\n",
    "    json.dump(results_all, f, indent=4)\n",
    "\n",
    "print(results_all)"
   ]
  },
  {
   "cell_type": "markdown",
   "metadata": {},
   "source": [
    "## Ensemble Task"
   ]
  },
  {
   "cell_type": "markdown",
   "metadata": {},
   "source": []
  },
  {
   "cell_type": "code",
   "execution_count": 4,
   "metadata": {},
   "outputs": [
    {
     "name": "stderr",
     "output_type": "stream",
     "text": [
      "/data1/jiangy/U-LFormer/code/no_pipeline_eval_metrics.py:247: VisibleDeprecationWarning: Creating an ndarray from ragged nested sequences (which is a list-or-tuple of lists-or-tuples-or ndarrays with different lengths or shapes) is deprecated. If you meant to do this, you must specify 'dtype=object' when creating the ndarray.\n",
      "  test_set1 = np.asarray(valid_set1)\n",
      "2025-03-31 20:19:11,046 | INFO : Creating model ...\n",
      "2025-03-31 20:19:11,084 | INFO : Total number of parameters: 3057318\n",
      "2025-03-31 20:19:11,085 | INFO : Trainable parameters: 3057318\n"
     ]
    },
    {
     "name": "stdout",
     "output_type": "stream",
     "text": [
      "<built-in function log10>\n",
      "noLSTM: False, noTrans: False\n",
      "Loaded model from ../model_chkpt/_2024-12-06_14-03-17_k9l/checkpoints/model_best_seg.pth. Epoch: 448\n"
     ]
    },
    {
     "name": "stderr",
     "output_type": "stream",
     "text": [
      "/data1/jiangy/U-LFormer/code/no_pipeline_eval_metrics.py:354: VisibleDeprecationWarning: Creating an ndarray from ragged nested sequences (which is a list-or-tuple of lists-or-tuples-or ndarrays with different lengths or shapes) is deprecated. If you meant to do this, you must specify 'dtype=object' when creating the ndarray.\n",
      "  train_set1 = np.asarray(train_set1)\n",
      "2025-03-31 20:19:11,271 | INFO : 657 samples will be used for testing\n"
     ]
    },
    {
     "name": "stdout",
     "output_type": "stream",
     "text": [
      "<built-in function log10>\n",
      "max_len:  200 136\n"
     ]
    },
    {
     "name": "stderr",
     "output_type": "stream",
     "text": [
      "2025-03-31 20:19:12,080 | INFO : epoch_a_mae: 0.3307858308156331, epoch_k_mae:0.5370120604832967\n",
      "2025-03-31 20:19:12,082 | INFO : epoch_a_mse: 0.1688756843407949, epoch_k_mse:2.099552035331726\n"
     ]
    },
    {
     "name": "stdout",
     "output_type": "stream",
     "text": [
      "<built-in function log10>\n"
     ]
    },
    {
     "name": "stderr",
     "output_type": "stream",
     "text": [
      "2025-03-31 20:19:12,455 | INFO : Creating model ...\n",
      "2025-03-31 20:19:12,507 | INFO : Total number of parameters: 3057318\n",
      "2025-03-31 20:19:12,508 | INFO : Trainable parameters: 3057318\n"
     ]
    },
    {
     "name": "stdout",
     "output_type": "stream",
     "text": [
      "noLSTM: False, noTrans: False\n",
      "Loaded model from ../model_chkpt/_2024-12-06_14-03-17_k9l/checkpoints/model_best_seg.pth. Epoch: 448\n",
      "<built-in function log10>\n"
     ]
    },
    {
     "name": "stderr",
     "output_type": "stream",
     "text": [
      "2025-03-31 20:19:12,713 | INFO : 748 samples will be used for testing\n"
     ]
    },
    {
     "name": "stdout",
     "output_type": "stream",
     "text": [
      "max_len:  200 199\n"
     ]
    },
    {
     "name": "stderr",
     "output_type": "stream",
     "text": [
      "2025-03-31 20:19:13,645 | INFO : epoch_a_mae: 0.33855003118515015, epoch_k_mae:0.6050298015276591\n",
      "2025-03-31 20:19:13,647 | INFO : epoch_a_mse: 0.1824550578991572, epoch_k_mse:2.5374724864959717\n",
      "2025-03-31 20:19:13,798 | INFO : Creating model ...\n",
      "2025-03-31 20:19:13,835 | INFO : Total number of parameters: 3057318\n",
      "2025-03-31 20:19:13,836 | INFO : Trainable parameters: 3057318\n"
     ]
    },
    {
     "name": "stdout",
     "output_type": "stream",
     "text": [
      "<built-in function log10>\n",
      "noLSTM: False, noTrans: False\n",
      "Loaded model from ../model_chkpt/_2024-12-06_14-03-17_k9l/checkpoints/model_best_seg.pth. Epoch: 448\n",
      "<built-in function log10>\n"
     ]
    },
    {
     "name": "stderr",
     "output_type": "stream",
     "text": [
      "2025-03-31 20:19:13,985 | INFO : 796 samples will be used for testing\n"
     ]
    },
    {
     "name": "stdout",
     "output_type": "stream",
     "text": [
      "max_len:  200 121\n"
     ]
    },
    {
     "name": "stderr",
     "output_type": "stream",
     "text": [
      "2025-03-31 20:19:14,997 | INFO : epoch_a_mae: 0.33669130007425946, epoch_k_mae:0.5610962708791097\n",
      "2025-03-31 20:19:14,999 | INFO : epoch_a_mse: 0.17891153196493784, epoch_k_mse:2.264270861943563\n",
      "2025-03-31 20:19:15,138 | INFO : Creating model ...\n",
      "2025-03-31 20:19:15,179 | INFO : Total number of parameters: 3057318\n",
      "2025-03-31 20:19:15,180 | INFO : Trainable parameters: 3057318\n"
     ]
    },
    {
     "name": "stdout",
     "output_type": "stream",
     "text": [
      "<built-in function log10>\n",
      "noLSTM: False, noTrans: False\n"
     ]
    },
    {
     "name": "stderr",
     "output_type": "stream",
     "text": [
      "2025-03-31 20:19:15,470 | INFO : 609 samples will be used for testing\n"
     ]
    },
    {
     "name": "stdout",
     "output_type": "stream",
     "text": [
      "Loaded model from ../model_chkpt/_2024-12-06_14-03-17_k9l/checkpoints/model_best_seg.pth. Epoch: 448\n",
      "<built-in function log10>\n",
      "max_len:  200 154\n"
     ]
    },
    {
     "name": "stderr",
     "output_type": "stream",
     "text": [
      "2025-03-31 20:19:16,077 | INFO : epoch_a_mae: 0.32962308327356976, epoch_k_mae:0.5700756311416626\n",
      "2025-03-31 20:19:16,078 | INFO : epoch_a_mse: 0.16543257733186087, epoch_k_mse:2.3456746339797974\n",
      "2025-03-31 20:19:16,261 | INFO : Creating model ...\n",
      "2025-03-31 20:19:16,312 | INFO : Total number of parameters: 3057318\n",
      "2025-03-31 20:19:16,314 | INFO : Trainable parameters: 3057318\n"
     ]
    },
    {
     "name": "stdout",
     "output_type": "stream",
     "text": [
      "<built-in function log10>\n",
      "noLSTM: False, noTrans: False\n",
      "Loaded model from ../model_chkpt/_2024-12-06_14-03-17_k9l/checkpoints/model_best_seg.pth. Epoch: 448\n",
      "<built-in function log10>\n"
     ]
    },
    {
     "name": "stderr",
     "output_type": "stream",
     "text": [
      "2025-03-31 20:19:16,634 | INFO : 788 samples will be used for testing\n"
     ]
    },
    {
     "name": "stdout",
     "output_type": "stream",
     "text": [
      "max_len:  200 200\n"
     ]
    },
    {
     "name": "stderr",
     "output_type": "stream",
     "text": [
      "2025-03-31 20:19:17,427 | INFO : epoch_a_mae: 0.33845439553260803, epoch_k_mae:0.6021853089332581\n",
      "2025-03-31 20:19:17,429 | INFO : epoch_a_mse: 0.18298488358656564, epoch_k_mse:2.522184371948242\n",
      "2025-03-31 20:19:17,594 | INFO : Creating model ...\n",
      "2025-03-31 20:19:17,630 | INFO : Total number of parameters: 3057318\n",
      "2025-03-31 20:19:17,632 | INFO : Trainable parameters: 3057318\n"
     ]
    },
    {
     "name": "stdout",
     "output_type": "stream",
     "text": [
      "<built-in function log10>\n",
      "noLSTM: False, noTrans: False\n",
      "Loaded model from ../model_chkpt/_2024-12-06_14-03-17_k9l/checkpoints/model_best_seg.pth. Epoch: 448\n",
      "<built-in function log10>\n"
     ]
    },
    {
     "name": "stderr",
     "output_type": "stream",
     "text": [
      "2025-03-31 20:19:17,796 | INFO : 797 samples will be used for testing\n"
     ]
    },
    {
     "name": "stdout",
     "output_type": "stream",
     "text": [
      "max_len:  200 109\n"
     ]
    },
    {
     "name": "stderr",
     "output_type": "stream",
     "text": [
      "2025-03-31 20:19:18,743 | INFO : epoch_a_mae: 0.33204102516174316, epoch_k_mae:0.5532312194506327\n",
      "2025-03-31 20:19:18,745 | INFO : epoch_a_mse: 0.17057563861211142, epoch_k_mse:2.2177865505218506\n",
      "2025-03-31 20:19:18,903 | INFO : Creating model ...\n",
      "2025-03-31 20:19:18,955 | INFO : Total number of parameters: 3057318\n",
      "2025-03-31 20:19:18,956 | INFO : Trainable parameters: 3057318\n"
     ]
    },
    {
     "name": "stdout",
     "output_type": "stream",
     "text": [
      "<built-in function log10>\n",
      "noLSTM: False, noTrans: False\n",
      "Loaded model from ../model_chkpt/_2024-12-06_14-03-17_k9l/checkpoints/model_best_seg.pth. Epoch: 448\n"
     ]
    },
    {
     "name": "stderr",
     "output_type": "stream",
     "text": [
      "2025-03-31 20:19:19,130 | INFO : 693 samples will be used for testing\n"
     ]
    },
    {
     "name": "stdout",
     "output_type": "stream",
     "text": [
      "<built-in function log10>\n",
      "max_len:  200 124\n"
     ]
    },
    {
     "name": "stderr",
     "output_type": "stream",
     "text": [
      "2025-03-31 20:19:19,924 | INFO : epoch_a_mae: 0.33220915993054706, epoch_k_mae:0.5289254188537598\n",
      "2025-03-31 20:19:19,926 | INFO : epoch_a_mse: 0.17057070632775626, epoch_k_mse:2.0650566021601358\n",
      "2025-03-31 20:19:20,062 | INFO : Creating model ...\n",
      "2025-03-31 20:19:20,099 | INFO : Total number of parameters: 3057318\n",
      "2025-03-31 20:19:20,101 | INFO : Trainable parameters: 3057318\n"
     ]
    },
    {
     "name": "stdout",
     "output_type": "stream",
     "text": [
      "<built-in function log10>\n",
      "noLSTM: False, noTrans: False\n",
      "Loaded model from ../model_chkpt/_2024-12-06_14-03-17_k9l/checkpoints/model_best_seg.pth. Epoch: 448\n",
      "<built-in function log10>\n"
     ]
    },
    {
     "name": "stderr",
     "output_type": "stream",
     "text": [
      "2025-03-31 20:19:20,246 | INFO : 716 samples will be used for testing\n"
     ]
    },
    {
     "name": "stdout",
     "output_type": "stream",
     "text": [
      "max_len:  200 177\n"
     ]
    },
    {
     "name": "stderr",
     "output_type": "stream",
     "text": [
      "2025-03-31 20:19:21,004 | INFO : epoch_a_mae: 0.33997196952501935, epoch_k_mae:0.6067411502202352\n",
      "2025-03-31 20:19:21,006 | INFO : epoch_a_mse: 0.18596543868382773, epoch_k_mse:2.531733433405558\n"
     ]
    },
    {
     "name": "stdout",
     "output_type": "stream",
     "text": [
      "<built-in function log10>\n"
     ]
    },
    {
     "name": "stderr",
     "output_type": "stream",
     "text": [
      "2025-03-31 20:19:21,412 | INFO : Creating model ...\n",
      "2025-03-31 20:19:21,462 | INFO : Total number of parameters: 3057318\n",
      "2025-03-31 20:19:21,463 | INFO : Trainable parameters: 3057318\n"
     ]
    },
    {
     "name": "stdout",
     "output_type": "stream",
     "text": [
      "noLSTM: False, noTrans: False\n",
      "Loaded model from ../model_chkpt/_2024-12-06_14-03-17_k9l/checkpoints/model_best_seg.pth. Epoch: 448\n",
      "<built-in function log10>\n"
     ]
    },
    {
     "name": "stderr",
     "output_type": "stream",
     "text": [
      "2025-03-31 20:19:21,647 | INFO : 795 samples will be used for testing\n"
     ]
    },
    {
     "name": "stdout",
     "output_type": "stream",
     "text": [
      "max_len:  200 136\n"
     ]
    },
    {
     "name": "stderr",
     "output_type": "stream",
     "text": [
      "2025-03-31 20:19:22,631 | INFO : epoch_a_mae: 0.33443036675453186, epoch_k_mae:0.5634653369585673\n",
      "2025-03-31 20:19:22,633 | INFO : epoch_a_mse: 0.17513962586720785, epoch_k_mse:2.2838518619537354\n",
      "2025-03-31 20:19:22,798 | INFO : Creating model ...\n",
      "2025-03-31 20:19:22,835 | INFO : Total number of parameters: 3057318\n",
      "2025-03-31 20:19:22,837 | INFO : Trainable parameters: 3057318\n"
     ]
    },
    {
     "name": "stdout",
     "output_type": "stream",
     "text": [
      "<built-in function log10>\n",
      "noLSTM: False, noTrans: False\n",
      "Loaded model from ../model_chkpt/_2024-12-06_14-03-17_k9l/checkpoints/model_best_seg.pth. Epoch: 448\n",
      "<built-in function log10>\n"
     ]
    },
    {
     "name": "stderr",
     "output_type": "stream",
     "text": [
      "2025-03-31 20:19:22,998 | INFO : 718 samples will be used for testing\n"
     ]
    },
    {
     "name": "stdout",
     "output_type": "stream",
     "text": [
      "max_len:  200 200\n"
     ]
    },
    {
     "name": "stderr",
     "output_type": "stream",
     "text": [
      "2025-03-31 20:19:23,881 | INFO : epoch_a_mae: 0.334887166817983, epoch_k_mae:0.5568417509396871\n",
      "2025-03-31 20:19:23,883 | INFO : epoch_a_mse: 0.17564158141613007, epoch_k_mse:2.2336514790852866\n"
     ]
    },
    {
     "name": "stdout",
     "output_type": "stream",
     "text": [
      "./tmp/0121/data_1_model_1/track1/exp_0/fov_0.txt exists:  True\n",
      "./tmp/0121/data_1_model_1/track1/exp_1/fov_0.txt exists:  True\n",
      "./tmp/0121/data_1_model_1/track1/exp_2/fov_0.txt exists:  True\n",
      "./tmp/0121/data_1_model_1/track1/exp_3/fov_0.txt exists:  True\n",
      "./tmp/0121/data_1_model_1/track1/exp_4/fov_0.txt exists:  True\n",
      "./tmp/0121/data_1_model_1/track1/exp_5/fov_0.txt exists:  True\n",
      "./tmp/0121/data_1_model_1/track1/exp_6/fov_0.txt exists:  True\n",
      "./tmp/0121/data_1_model_1/track1/exp_7/fov_0.txt exists:  True\n",
      "./tmp/0121/data_1_model_1/track1/exp_8/fov_0.txt exists:  True\n",
      "./tmp/0121/data_1_model_1/track1/exp_9/fov_0.txt exists:  True\n",
      "根据BIC选择的最佳模型的估计均值:  [1.28315525 0.3674811  0.90521817]\n",
      "根据BIC选择的最佳模型的估计方差:  [0.0327053  0.04098336 0.02745667]\n",
      "根据BIC选择的最佳模型的估计权重:  [0.36698567 0.19158732 0.44142701]\n",
      "根据BIC选择的最佳模型的估计均值:  [1.11420843e-88 2.05479310e+01 1.86451811e+02]\n",
      "根据BIC选择的最佳模型的估计方差:  [1.00000000e-06 2.63414928e+02 3.44180964e+04]\n",
      "根据BIC选择的最佳模型的估计权重:  [0.65502533 0.29151243 0.05346224]\n",
      "{'0.36748109704076126_1.1142084330146585e-88_0.2024434626786595_0.001': 49, '0.36748109704076126_20.54793097498519_0.2024434626786595_16.2300624660972': 2828, '0.905218167868469_20.54793097498519_0.16570054141538212_16.2300624660972': 2063, '0.36748109704076126_186.45181092544544_0.2024434626786595_185.52114823081806': 1172, '0.905218167868469_1.1142084330146585e-88_0.16570054141538212_0.001': 4253, '1.2831552503856003_1.1142084330146585e-88_0.18084605729079584_0.001': 4128, '1.2831552503856003_20.54793097498519_0.18084605729079584_16.2300624660972': 420, '0.905218167868469_186.45181092544544_0.16570054141538212_185.52114823081806': 130, '1.2831552503856003_186.45181092544544_0.18084605729079584_185.52114823081806': 192}\n",
      "根据BIC选择的最佳模型的估计均值:  [1.3037259  0.88479951 0.31228322]\n",
      "根据BIC选择的最佳模型的估计方差:  [0.03173784 0.02902013 0.0337264 ]\n",
      "根据BIC选择的最佳模型的估计权重:  [0.43315217 0.45795727 0.10889056]\n",
      "根据BIC选择的最佳模型的估计均值:  [2.36766712e-103 1.63916474e+001 7.39988321e+001]\n",
      "根据BIC选择的最佳模型的估计方差:  [1.00000000e-06 2.15190049e+02 1.76382459e+03]\n",
      "根据BIC选择的最佳模型的估计权重:  [0.74257997 0.23282547 0.02459457]\n",
      "{'1.30372590428298_16.391647370914033_0.1781511715563444_14.669357469296143': 478, '0.8847995058416124_2.3676671163193395e-103_0.1703529597631588_0.001': 5491, '1.30372590428298_2.3676671163193395e-103_0.1781511715563444_0.001': 6504, '0.8847995058416124_16.391647370914033_0.1703529597631588_14.669357469296143': 1888, '0.312283215333181_16.391647370914033_0.1836475016093593_14.669357469296143': 1386, '0.312283215333181_2.3676671163193395e-103_0.1836475016093593_0.001': 56, '0.8847995058416124_73.9988320637081_0.1703529597631588_41.99791174538697': 40, '0.312283215333181_73.9988320637081_0.1836475016093593_41.99791174538697': 327}\n",
      "根据BIC选择的最佳模型的估计均值:  [0.96258968 0.54428888 1.33486765]\n",
      "根据BIC选择的最佳模型的估计方差:  [0.02687859 0.05428784 0.02674872]\n",
      "根据BIC选择的最佳模型的估计权重:  [0.44767866 0.18811773 0.36420361]\n",
      "根据BIC选择的最佳模型的估计均值:  [1.94314808e-106 1.92342141e+001 1.20105726e+002]\n",
      "根据BIC选择的最佳模型的估计方差:  [1.00000000e-06 2.22479343e+02 1.15819352e+04]\n",
      "根据BIC选择的最佳模型的估计权重:  [0.71767821 0.2567649  0.02555689]\n",
      "{'0.5442888833015727_19.23421406129475_0.2329975164331143_14.915741443328281': 2494, '1.3348676460619475_1.9431480821274832e-106_0.16355036147715407_0.001': 5237, '0.9625896844988537_1.9431480821274832e-106_0.1639469213300798_0.001': 5806, '0.9625896844988537_19.23421406129475_0.1639469213300798_14.915741443328281': 1927, '1.3348676460619475_120.1057260696796_0.16355036147715407_107.61939961804968': 50, '1.3348676460619475_19.23421406129475_0.16355036147715407_14.915741443328281': 499, '0.5442888833015727_1.9431480821274832e-106_0.2329975164331143_0.001': 343, '0.5442888833015727_120.1057260696796_0.2329975164331143_107.61939961804968': 519, '0.9625896844988537_120.1057260696796_0.1639469213300798_107.61939961804968': 32}\n",
      "根据BIC选择的最佳模型的估计均值:  [0.87889899 0.33086938 1.25972094]\n",
      "根据BIC选择的最佳模型的估计方差:  [0.02906649 0.02812507 0.03669384]\n",
      "根据BIC选择的最佳模型的估计权重:  [0.43182996 0.19002908 0.37814096]\n",
      "根据BIC选择的最佳模型的估计均值:  [1.02626955e-97 1.34047652e+02 2.11342728e+01]\n",
      "根据BIC选择的最佳模型的估计方差:  [1.00000000e-06 1.19697372e+04 2.65193109e+02]\n",
      "根据BIC选择的最佳模型的估计权重:  [0.6270675  0.06142441 0.31150809]\n",
      "{'0.8788989877906094_21.134272761001476_0.17048897903868054_16.2847507995997': 2627, '0.330869382159187_21.134272761001476_0.16770529318031435_16.2847507995997': 2962, '1.25972093644537_1.0262695504824764e-97_0.19155636436846707_0.001': 4001, '0.330869382159187_134.0476515727824_0.16770529318031435_109.40629399770043': 1418, '0.8788989877906094_1.0262695504824764e-97_0.17048897903868054_0.001': 3219, '0.330869382159187_1.0262695504824764e-97_0.16770529318031435_0.001': 11, '1.25972093644537_21.134272761001476_0.19155636436846707_16.2847507995997': 411, '1.25972093644537_134.0476515727824_0.19155636436846707_109.40629399770043': 155, '0.8788989877906094_134.0476515727824_0.17048897903868054_109.40629399770043': 17}\n",
      "根据BIC选择的最佳模型的估计均值:  [0.9363818  1.330114   0.47400932]\n",
      "根据BIC选择的最佳模型的估计方差:  [0.02842063 0.02797891 0.07023032]\n",
      "根据BIC选择的最佳模型的估计权重:  [0.49293756 0.3889441  0.11811835]\n",
      "根据BIC选择的最佳模型的估计均值:  [5.47382911e-92 1.77269139e+01 7.81767904e+01]\n",
      "根据BIC选择的最佳模型的估计方差:  [1.00000000e-06 2.04660158e+02 2.52822707e+03]\n",
      "根据BIC选择的最佳模型的估计权重:  [0.76963981 0.2091203  0.02123988]\n",
      "{'0.4740093212184288_17.726913942448377_0.2650100285448246_14.305948356070674': 1195, '0.9363817997673496_5.47382911123452e-92_0.16858419398626445_0.001': 6771, '0.9363817997673496_17.726913942448377_0.16858419398626445_14.305948356070674': 1654, '1.3301139965992963_5.47382911123452e-92_0.16726897907054838_0.001': 5869, '1.3301139965992963_17.726913942448377_0.16726897907054838_14.305948356070674': 369, '0.4740093212184288_78.17679041455655_0.2650100285448246_50.281478434598654': 489, '0.4740093212184288_5.47382911123452e-92_0.2650100285448246_0.001': 48, '0.9363817997673496_78.17679041455655_0.16858419398626445_50.281478434598654': 37, '1.3301139965992963_78.17679041455655_0.16726897907054838_50.281478434598654': 4}\n",
      "根据BIC选择的最佳模型的估计均值:  [0.8840058  1.29161629 0.41500227]\n",
      "根据BIC选择的最佳模型的估计方差:  [0.02677923 0.02701535 0.04224137]\n",
      "根据BIC选择的最佳模型的估计权重:  [0.45811836 0.40136471 0.14051693]\n",
      "根据BIC选择的最佳模型的估计均值:  [1.47728700e-126 2.02968239e+001 1.16140481e+002]\n",
      "根据BIC选择的最佳模型的估计方差:  [1.00000000e-06 2.52022482e+02 9.24275475e+03]\n",
      "根据BIC选择的最佳模型的估计权重:  [0.711417   0.25815104 0.03043196]\n",
      "{'0.8840058013858507_20.29682388453345_0.1636436105468178_15.875215971537342': 2435, '0.8840058013858507_1.477287001647391e-126_0.1636436105468178_0.001': 5338, '0.41500226788436956_116.14048095669519_0.20552705405285604_96.13924666576679': 739, '1.2916162947289926_1.477287001647391e-126_0.16436347057325726_0.001': 5833, '1.2916162947289926_20.29682388453345_0.16436347057325726_15.875215971537342': 551, '0.41500226788436956_20.29682388453345_0.20552705405285604_15.875215971537342': 2178, '0.8840058013858507_116.14048095669519_0.1636436105468178_96.13924666576679': 11, '1.2916162947289926_116.14048095669519_0.16436347057325726_96.13924666576679': 24, '0.41500226788436956_1.477287001647391e-126_0.20552705405285604_0.001': 30}\n",
      "根据BIC选择的最佳模型的估计均值:  [0.38782519 0.87792144 1.27599937]\n",
      "根据BIC选择的最佳模型的估计方差:  [0.04022959 0.02824422 0.03792794]\n",
      "根据BIC选择的最佳模型的估计权重:  [0.15613554 0.42939799 0.41446647]\n",
      "根据BIC选择的最佳模型的估计均值:  [2.03251910e+001 6.06461187e-141 1.49703475e+002]\n",
      "根据BIC选择的最佳模型的估计方差:  [2.39729456e+02 1.00000000e-06 1.82613496e+04]\n",
      "根据BIC选择的最佳模型的估计权重:  [0.30841084 0.64677048 0.04481868]\n",
      "{'0.877921439283821_6.064611873426846e-141_0.16806015768750326_0.001': 3815, '0.38782518908879404_20.32519099501655_0.2005731619070089_15.483199142990404': 2436, '0.877921439283821_20.32519099501655_0.16806015768750326_15.483199142990404': 2825, '0.38782518908879404_149.70347537600497_0.2005731619070089_135.13456117961675': 847, '1.2759993721716385_20.32519099501655_0.1947509624434713_15.483199142990404': 807, '1.2759993721716385_6.064611873426846e-141_0.1947509624434713_0.001': 4894, '0.877921439283821_149.70347537600497_0.16806015768750326_135.13456117961675': 46, '1.2759993721716385_149.70347537600497_0.1947509624434713_135.13456117961675': 196, '0.38782518908879404_6.064611873426846e-141_0.2005731619070089_0.001': 19}\n",
      "根据BIC选择的最佳模型的估计均值:  [0.90192885 1.3204458  0.3277676 ]\n",
      "根据BIC选择的最佳模型的估计方差:  [0.03210498 0.02722474 0.03497331]\n",
      "根据BIC选择的最佳模型的估计权重:  [0.45889797 0.42087472 0.12022732]\n",
      "根据BIC选择的最佳模型的估计均值:  [5.27169356e-109 1.61008212e+001 7.71123758e+001]\n",
      "根据BIC选择的最佳模型的估计方差:  [1.00000000e-06 2.24162167e+02 2.37851589e+03]\n",
      "根据BIC选择的最佳模型的估计权重:  [0.72412853 0.24666312 0.02920835]\n",
      "{'0.3277675995459818_77.1123757949462_0.1870115258365833_48.77003068321371': 331, '0.3277675995459818_16.100821150760034_0.1870115258365833_14.972046178708638': 1424, '1.3204458026317103_5.271693557682965e-109_0.16499920785541133_0.001': 6093, '0.9019288457187853_16.100821150760034_0.17917863758849745_14.972046178708638': 1828, '0.3277675995459818_5.271693557682965e-109_0.1870115258365833_0.001': 33, '0.9019288457187853_5.271693557682965e-109_0.17917863758849745_0.001': 5280, '1.3204458026317103_77.1123757949462_0.16499920785541133_48.77003068321371': 27, '1.3204458026317103_16.100821150760034_0.16499920785541133_14.972046178708638': 389, '0.9019288457187853_77.1123757949462_0.17917863758849745_48.77003068321371': 68}\n",
      "根据BIC选择的最佳模型的估计均值:  [1.29525611 0.4165205  0.92483875]\n",
      "根据BIC选择的最佳模型的估计方差:  [0.03440805 0.05143522 0.0304589 ]\n",
      "根据BIC选择的最佳模型的估计权重:  [0.39907357 0.13918119 0.46174525]\n",
      "根据BIC选择的最佳模型的估计均值:  [7.38793746e-154 1.10166336e+002 1.91496371e+001]\n",
      "根据BIC选择的最佳模型的估计方差:  [1.00000000e-06 9.07897588e+03 2.23372438e+02]\n",
      "根据BIC选择的最佳模型的估计权重:  [0.71565328 0.03241402 0.2519327 ]\n",
      "{'0.4165204995148868_19.14963708408028_0.2267933401299704_14.945649467039956': 2070, '0.9248387533602074_19.14963708408028_0.17452478269983107_14.945649467039956': 2185, '0.9248387533602074_7.387937461261907e-154_0.17452478269983107_0.001': 5729, '1.2952561139142105_7.387937461261907e-154_0.1854940666086075_0.001': 5593, '0.4165204995148868_7.387937461261907e-154_0.2267933401299704_0.001': 50, '1.2952561139142105_19.14963708408028_0.1854940666086075_14.945649467039956': 594, '0.4165204995148868_110.16633597001211_0.2267933401299704_95.28366009661389': 714, '0.9248387533602074_110.16633597001211_0.17452478269983107_95.28366009661389': 121, '1.2952561139142105_110.16633597001211_0.1854940666086075_95.28366009661389': 50}\n",
      "根据BIC选择的最佳模型的估计均值:  [0.34947629 1.27975152 0.88147676]\n",
      "根据BIC选择的最佳模型的估计方差:  [0.03618398 0.03718938 0.03049519]\n",
      "根据BIC选择的最佳模型的估计权重:  [0.11491864 0.4241698  0.46091156]\n",
      "根据BIC选择的最佳模型的估计均值:  [7.72376984e-97 1.33914614e+02 1.83143808e+01]\n",
      "根据BIC选择的最佳模型的估计方差:  [1.00000000e-06 1.14129215e+04 2.12591173e+02]\n",
      "根据BIC选择的最佳模型的估计权重:  [0.69512386 0.04956628 0.25530987]\n",
      "{'0.8814767644021679_18.314380840689893_0.1746287168119422_14.580506622628844': 2663, '1.2797515188801136_7.723769840555091e-97_0.19284547960369106_0.001': 5330, '1.2797515188801136_18.314380840689893_0.19284547960369106_14.580506622628844': 577, '0.34947629309296485_18.314380840689893_0.1902208689304186_14.580506622628844': 1290, '0.8814767644021679_7.723769840555091e-97_0.1746287168119422_0.001': 4593, '0.34947629309296485_133.91461426603814_0.1902208689304186_106.8312760161449': 1074, '0.34947629309296485_7.723769840555091e-97_0.1902208689304186_0.001': 13, '0.8814767644021679_133.91461426603814_0.1746287168119422_106.8312760161449': 117, '1.2797515188801136_133.91461426603814_0.19284547960369106_106.8312760161449': 209}\n"
     ]
    },
    {
     "name": "stderr",
     "output_type": "stream",
     "text": [
      "/data1/jiangy/U-LFormer/code/no_pipeline_eval_metrics.py:247: VisibleDeprecationWarning: Creating an ndarray from ragged nested sequences (which is a list-or-tuple of lists-or-tuples-or ndarrays with different lengths or shapes) is deprecated. If you meant to do this, you must specify 'dtype=object' when creating the ndarray.\n",
      "  test_set1 = np.asarray(valid_set1)\n",
      "2025-03-31 20:19:31,468 | INFO : Creating model ...\n",
      "2025-03-31 20:19:31,504 | INFO : Total number of parameters: 3057318\n",
      "2025-03-31 20:19:31,506 | INFO : Trainable parameters: 3057318\n",
      "/data1/jiangy/U-LFormer/code/no_pipeline_eval_metrics.py:354: VisibleDeprecationWarning: Creating an ndarray from ragged nested sequences (which is a list-or-tuple of lists-or-tuples-or ndarrays with different lengths or shapes) is deprecated. If you meant to do this, you must specify 'dtype=object' when creating the ndarray.\n",
      "  train_set1 = np.asarray(train_set1)\n",
      "2025-03-31 20:19:31,620 | INFO : 399 samples will be used for testing\n"
     ]
    },
    {
     "name": "stdout",
     "output_type": "stream",
     "text": [
      "<built-in function log10>\n",
      "noLSTM: False, noTrans: False\n",
      "Loaded model from ../model_chkpt/_2024-12-06_14-03-17_k9l/checkpoints/model_best_seg.pth. Epoch: 448\n",
      "<built-in function log10>\n",
      "max_len:  200 191\n"
     ]
    },
    {
     "name": "stderr",
     "output_type": "stream",
     "text": [
      "2025-03-31 20:19:32,351 | INFO : epoch_a_mae: 0.33658455312252045, epoch_k_mae:0.5864165127277374\n",
      "2025-03-31 20:19:32,352 | INFO : epoch_a_mse: 0.1819375529885292, epoch_k_mse:2.375726580619812\n",
      "2025-03-31 20:19:32,455 | INFO : Creating model ...\n",
      "2025-03-31 20:19:32,493 | INFO : Total number of parameters: 3057318\n",
      "2025-03-31 20:19:32,494 | INFO : Trainable parameters: 3057318\n"
     ]
    },
    {
     "name": "stdout",
     "output_type": "stream",
     "text": [
      "<built-in function log10>\n",
      "noLSTM: False, noTrans: False\n",
      "Loaded model from ../model_chkpt/_2024-12-06_14-03-17_k9l/checkpoints/model_best_seg.pth. Epoch: 448\n"
     ]
    },
    {
     "name": "stderr",
     "output_type": "stream",
     "text": [
      "2025-03-31 20:19:32,706 | INFO : 455 samples will be used for testing\n"
     ]
    },
    {
     "name": "stdout",
     "output_type": "stream",
     "text": [
      "<built-in function log10>\n",
      "max_len:  200 200\n"
     ]
    },
    {
     "name": "stderr",
     "output_type": "stream",
     "text": [
      "2025-03-31 20:19:33,526 | INFO : epoch_a_mae: 0.33724135160446167, epoch_k_mae:0.5917858183383942\n",
      "2025-03-31 20:19:33,528 | INFO : epoch_a_mse: 0.18238826096057892, epoch_k_mse:2.359505772590637\n",
      "2025-03-31 20:19:33,619 | INFO : Creating model ...\n",
      "2025-03-31 20:19:33,656 | INFO : Total number of parameters: 3057318\n",
      "2025-03-31 20:19:33,658 | INFO : Trainable parameters: 3057318\n"
     ]
    },
    {
     "name": "stdout",
     "output_type": "stream",
     "text": [
      "<built-in function log10>\n",
      "noLSTM: False, noTrans: False\n",
      "Loaded model from ../model_chkpt/_2024-12-06_14-03-17_k9l/checkpoints/model_best_seg.pth. Epoch: 448\n",
      "<built-in function log10>\n"
     ]
    },
    {
     "name": "stderr",
     "output_type": "stream",
     "text": [
      "2025-03-31 20:19:33,789 | INFO : 291 samples will be used for testing\n"
     ]
    },
    {
     "name": "stdout",
     "output_type": "stream",
     "text": [
      "max_len:  200 200\n"
     ]
    },
    {
     "name": "stderr",
     "output_type": "stream",
     "text": [
      "2025-03-31 20:19:34,778 | INFO : epoch_a_mae: 0.3407903015613556, epoch_k_mae:0.6556217074394226\n",
      "2025-03-31 20:19:34,780 | INFO : epoch_a_mse: 0.19384470582008362, epoch_k_mse:2.533957004547119\n",
      "2025-03-31 20:19:34,861 | INFO : Creating model ...\n",
      "2025-03-31 20:19:34,904 | INFO : Total number of parameters: 3057318\n",
      "2025-03-31 20:19:34,906 | INFO : Trainable parameters: 3057318\n",
      "2025-03-31 20:19:35,013 | INFO : 281 samples will be used for testing\n"
     ]
    },
    {
     "name": "stdout",
     "output_type": "stream",
     "text": [
      "<built-in function log10>\n",
      "noLSTM: False, noTrans: False\n",
      "Loaded model from ../model_chkpt/_2024-12-06_14-03-17_k9l/checkpoints/model_best_seg.pth. Epoch: 448\n",
      "<built-in function log10>\n",
      "max_len:  200 200\n"
     ]
    },
    {
     "name": "stderr",
     "output_type": "stream",
     "text": [
      "2025-03-31 20:19:36,082 | INFO : epoch_a_mae: 0.3408576548099518, epoch_k_mae:0.6535804867744446\n",
      "2025-03-31 20:19:36,083 | INFO : epoch_a_mse: 0.18818169832229614, epoch_k_mse:2.604515314102173\n",
      "2025-03-31 20:19:36,249 | INFO : Creating model ...\n",
      "2025-03-31 20:19:36,285 | INFO : Total number of parameters: 3057318\n",
      "2025-03-31 20:19:36,287 | INFO : Trainable parameters: 3057318\n"
     ]
    },
    {
     "name": "stdout",
     "output_type": "stream",
     "text": [
      "<built-in function log10>\n",
      "noLSTM: False, noTrans: False\n",
      "Loaded model from ../model_chkpt/_2024-12-06_14-03-17_k9l/checkpoints/model_best_seg.pth. Epoch: 448\n"
     ]
    },
    {
     "name": "stderr",
     "output_type": "stream",
     "text": [
      "2025-03-31 20:19:36,550 | INFO : 503 samples will be used for testing\n"
     ]
    },
    {
     "name": "stdout",
     "output_type": "stream",
     "text": [
      "<built-in function log10>\n",
      "max_len:  200 199\n"
     ]
    },
    {
     "name": "stderr",
     "output_type": "stream",
     "text": [
      "2025-03-31 20:19:37,478 | INFO : epoch_a_mae: 0.3348449468612671, epoch_k_mae:0.6097190082073212\n",
      "2025-03-31 20:19:37,480 | INFO : epoch_a_mse: 0.17729898542165756, epoch_k_mse:2.521106243133545\n",
      "2025-03-31 20:19:37,582 | INFO : Creating model ...\n",
      "2025-03-31 20:19:37,639 | INFO : Total number of parameters: 3057318\n",
      "2025-03-31 20:19:37,641 | INFO : Trainable parameters: 3057318\n"
     ]
    },
    {
     "name": "stdout",
     "output_type": "stream",
     "text": [
      "<built-in function log10>\n",
      "noLSTM: False, noTrans: False\n",
      "Loaded model from ../model_chkpt/_2024-12-06_14-03-17_k9l/checkpoints/model_best_seg.pth. Epoch: 448\n",
      "<built-in function log10>\n"
     ]
    },
    {
     "name": "stderr",
     "output_type": "stream",
     "text": [
      "2025-03-31 20:19:37,804 | INFO : 418 samples will be used for testing\n"
     ]
    },
    {
     "name": "stdout",
     "output_type": "stream",
     "text": [
      "max_len:  200 200\n"
     ]
    },
    {
     "name": "stderr",
     "output_type": "stream",
     "text": [
      "2025-03-31 20:19:38,266 | INFO : epoch_a_mae: 0.3411082476377487, epoch_k_mae:0.6436144709587097\n",
      "2025-03-31 20:19:38,268 | INFO : epoch_a_mse: 0.18756696581840515, epoch_k_mse:2.705233931541443\n",
      "2025-03-31 20:19:38,373 | INFO : Creating model ...\n",
      "2025-03-31 20:19:38,420 | INFO : Total number of parameters: 3057318\n",
      "2025-03-31 20:19:38,421 | INFO : Trainable parameters: 3057318\n"
     ]
    },
    {
     "name": "stdout",
     "output_type": "stream",
     "text": [
      "<built-in function log10>\n",
      "noLSTM: False, noTrans: False\n",
      "Loaded model from ../model_chkpt/_2024-12-06_14-03-17_k9l/checkpoints/model_best_seg.pth. Epoch: 448\n",
      "<built-in function log10>\n"
     ]
    },
    {
     "name": "stderr",
     "output_type": "stream",
     "text": [
      "2025-03-31 20:19:38,550 | INFO : 278 samples will be used for testing\n"
     ]
    },
    {
     "name": "stdout",
     "output_type": "stream",
     "text": [
      "max_len:  200 200\n"
     ]
    },
    {
     "name": "stderr",
     "output_type": "stream",
     "text": [
      "2025-03-31 20:19:39,550 | INFO : epoch_a_mae: 0.3452931046485901, epoch_k_mae:0.6886422038078308\n",
      "2025-03-31 20:19:39,552 | INFO : epoch_a_mse: 0.19375574588775635, epoch_k_mse:2.7336344718933105\n",
      "2025-03-31 20:19:39,695 | INFO : Creating model ...\n",
      "2025-03-31 20:19:39,746 | INFO : Total number of parameters: 3057318\n",
      "2025-03-31 20:19:39,747 | INFO : Trainable parameters: 3057318\n"
     ]
    },
    {
     "name": "stdout",
     "output_type": "stream",
     "text": [
      "<built-in function log10>\n",
      "noLSTM: False, noTrans: False\n",
      "Loaded model from ../model_chkpt/_2024-12-06_14-03-17_k9l/checkpoints/model_best_seg.pth. Epoch: 448\n"
     ]
    },
    {
     "name": "stderr",
     "output_type": "stream",
     "text": [
      "2025-03-31 20:19:39,943 | INFO : 486 samples will be used for testing\n"
     ]
    },
    {
     "name": "stdout",
     "output_type": "stream",
     "text": [
      "<built-in function log10>\n",
      "max_len:  200 164\n"
     ]
    },
    {
     "name": "stderr",
     "output_type": "stream",
     "text": [
      "2025-03-31 20:19:41,038 | INFO : epoch_a_mae: 0.3430061787366867, epoch_k_mae:0.5997142195701599\n",
      "2025-03-31 20:19:41,040 | INFO : epoch_a_mse: 0.1911168023943901, epoch_k_mse:2.4280132055282593\n",
      "2025-03-31 20:19:41,160 | INFO : Creating model ...\n",
      "2025-03-31 20:19:41,209 | INFO : Total number of parameters: 3057318\n",
      "2025-03-31 20:19:41,210 | INFO : Trainable parameters: 3057318\n"
     ]
    },
    {
     "name": "stdout",
     "output_type": "stream",
     "text": [
      "<built-in function log10>\n",
      "noLSTM: False, noTrans: False\n",
      "Loaded model from ../model_chkpt/_2024-12-06_14-03-17_k9l/checkpoints/model_best_seg.pth. Epoch: 448\n",
      "<built-in function log10>\n"
     ]
    },
    {
     "name": "stderr",
     "output_type": "stream",
     "text": [
      "2025-03-31 20:19:41,357 | INFO : 374 samples will be used for testing\n"
     ]
    },
    {
     "name": "stdout",
     "output_type": "stream",
     "text": [
      "max_len:  200 200\n"
     ]
    },
    {
     "name": "stderr",
     "output_type": "stream",
     "text": [
      "2025-03-31 20:19:42,157 | INFO : epoch_a_mae: 0.33897610008716583, epoch_k_mae:0.5839143693447113\n",
      "2025-03-31 20:19:42,159 | INFO : epoch_a_mse: 0.18367600440979004, epoch_k_mse:2.3214937448501587\n",
      "2025-03-31 20:19:42,274 | INFO : Creating model ...\n",
      "2025-03-31 20:19:42,318 | INFO : Total number of parameters: 3057318\n",
      "2025-03-31 20:19:42,320 | INFO : Trainable parameters: 3057318\n"
     ]
    },
    {
     "name": "stdout",
     "output_type": "stream",
     "text": [
      "<built-in function log10>\n",
      "noLSTM: False, noTrans: False\n"
     ]
    },
    {
     "name": "stderr",
     "output_type": "stream",
     "text": [
      "2025-03-31 20:19:42,516 | INFO : 473 samples will be used for testing\n"
     ]
    },
    {
     "name": "stdout",
     "output_type": "stream",
     "text": [
      "Loaded model from ../model_chkpt/_2024-12-06_14-03-17_k9l/checkpoints/model_best_seg.pth. Epoch: 448\n",
      "<built-in function log10>\n",
      "max_len:  200 200\n"
     ]
    },
    {
     "name": "stderr",
     "output_type": "stream",
     "text": [
      "2025-03-31 20:19:43,319 | INFO : epoch_a_mae: 0.33994293212890625, epoch_k_mae:0.6282810866832733\n",
      "2025-03-31 20:19:43,320 | INFO : epoch_a_mse: 0.18572403490543365, epoch_k_mse:2.6110061407089233\n"
     ]
    },
    {
     "name": "stdout",
     "output_type": "stream",
     "text": [
      "./tmp/0121/data_1_model_1/track1/exp_0/fov_0.txt exists:  True\n",
      "./tmp/0121/data_1_model_1/track1/exp_1/fov_0.txt exists:  True\n",
      "./tmp/0121/data_1_model_1/track1/exp_2/fov_0.txt exists:  True\n",
      "./tmp/0121/data_1_model_1/track1/exp_3/fov_0.txt exists:  True\n",
      "./tmp/0121/data_1_model_1/track1/exp_4/fov_0.txt exists:  True\n",
      "./tmp/0121/data_1_model_1/track1/exp_5/fov_0.txt exists:  True\n",
      "./tmp/0121/data_1_model_1/track1/exp_6/fov_0.txt exists:  True\n",
      "./tmp/0121/data_1_model_1/track1/exp_7/fov_0.txt exists:  True\n",
      "./tmp/0121/data_1_model_1/track1/exp_8/fov_0.txt exists:  True\n",
      "./tmp/0121/data_1_model_1/track1/exp_9/fov_0.txt exists:  True\n",
      "根据BIC选择的最佳模型的估计均值:  [0.31828383 0.87923875 1.31325515]\n",
      "根据BIC选择的最佳模型的估计方差:  [0.03443909 0.0261025  0.03187834]\n",
      "根据BIC选择的最佳模型的估计权重:  [0.18332183 0.4266754  0.39000278]\n",
      "根据BIC选择的最佳模型的估计均值:  [6.06189970e-103 1.50179897e+001 1.57870373e+002]\n",
      "根据BIC选择的最佳模型的估计方差:  [1.00000000e-06 2.22516699e+02 1.21405226e+04]\n",
      "根据BIC选择的最佳模型的估计权重:  [0.64869056 0.29485906 0.05645038]\n",
      "{'0.8792387472047367_15.017989746339651_0.16156269208901175_14.916993636859848': 1014, '1.3132551484649884_6.061899703194319e-103_0.17854507219819912_0.001': 3070, '0.31828383325992354_15.017989746339651_0.18557772820807547_14.916993636859848': 1826, '0.8792387472047367_157.8703726018339_0.16156269208901175_110.18403981807454': 79, '0.8792387472047367_6.061899703194319e-103_0.16156269208901175_0.001': 2676, '0.31828383325992354_157.8703726018339_0.18557772820807547_110.18403981807454': 684, '1.3132551484649884_157.8703726018339_0.17854507219819912_110.18403981807454': 173, '0.31828383325992354_6.061899703194319e-103_0.18557772820807547_0.001': 23, '1.3132551484649884_15.017989746339651_0.17854507219819912_14.916993636859848': 289}\n",
      "根据BIC选择的最佳模型的估计均值:  [0.8551426  0.26670838 1.29269435]\n",
      "根据BIC选择的最佳模型的估计方差:  [0.0387813  0.0243963  0.04432892]\n",
      "根据BIC选择的最佳模型的估计权重:  [0.40531771 0.20386598 0.3908163 ]\n",
      "根据BIC选择的最佳模型的估计均值:  [1.92539873e-100 1.80159258e+002 1.50035989e+001]\n",
      "根据BIC选择的最佳模型的估计方差:  [1.00000000e-06 2.66204091e+04 2.83909464e+02]\n",
      "根据BIC选择的最佳模型的估计权重:  [0.60637976 0.03568218 0.35793806]\n",
      "{'0.855142595141192_15.003598862976798_0.19692967079374035_16.849613156964104': 1535, '0.2667083799089055_180.15925758485983_0.1561931500266428_163.15762029443817': 390, '0.2667083799089055_15.003598862976798_0.1561931500266428_16.849613156964104': 1972, '0.855142595141192_1.9253987287614328e-100_0.19692967079374035_0.001': 2753, '1.292694345963462_1.9253987287614328e-100_0.21054435255233675_0.001': 4044, '1.292694345963462_15.003598862976798_0.21054435255233675_16.849613156964104': 325, '1.292694345963462_180.15925758485983_0.21054435255233675_163.15762029443817': 161, '0.2667083799089055_1.9253987287614328e-100_0.1561931500266428_0.001': 36, '0.855142595141192_180.15925758485983_0.19692967079374035_163.15762029443817': 29}\n",
      "根据BIC选择的最佳模型的估计均值:  [0.21389262 1.29240299 0.85338662]\n",
      "根据BIC选择的最佳模型的估计方差:  [0.02108898 0.06904432 0.04243475]\n",
      "根据BIC选择的最佳模型的估计权重:  [0.30734168 0.29563765 0.39702067]\n",
      "根据BIC选择的最佳模型的估计均值:  [4.70484627e-105 1.08893283e+002 9.02767381e+000]\n",
      "根据BIC选择的最佳模型的估计方差:  [1.00000000e-06 1.80651096e+04 1.44704027e+02]\n",
      "根据BIC选择的最佳模型的估计权重:  [0.4979544  0.07718663 0.42485896]\n",
      "{'0.8533866229929761_9.02767381230691_0.20599697517131635_12.029298677071344': 1343, '1.292402987546252_4.704846268023064e-105_0.26276285974513314_0.001': 1988, '0.21389261679176275_9.02767381230691_0.14522045512307333_12.029298677071344': 2830, '0.8533866229929761_4.704846268023064e-105_0.20599697517131635_0.001': 2325, '0.21389261679176275_108.8932828450538_0.14522045512307333_134.4065088434747': 593, '1.292402987546252_9.02767381230691_0.26276285974513314_12.029298677071344': 207, '0.8533866229929761_108.8932828450538_0.20599697517131635_134.4065088434747': 89, '0.21389261679176275_4.704846268023064e-105_0.14522045512307333_0.001': 43, '1.292402987546252_108.8932828450538_0.26276285974513314_134.4065088434747': 288}\n",
      "根据BIC选择的最佳模型的估计均值:  [0.83559972 1.27596806 0.24139593]\n",
      "根据BIC选择的最佳模型的估计方差:  [0.02805733 0.05677749 0.02154692]\n",
      "根据BIC选择的最佳模型的估计权重:  [0.41745894 0.29729859 0.28524247]\n",
      "根据BIC选择的最佳模型的估计均值:  [6.60066780e-90 1.74517152e+02 9.35063644e+00]\n",
      "根据BIC选择的最佳模型的估计方差:  [1.00000000e-06 3.78108409e+04 1.46881276e+02]\n",
      "根据BIC选择的最佳模型的估计权重:  [0.50489988 0.06797426 0.42712586]\n",
      "{'0.8355997204061953_9.350636439938992_0.16750322734812303_12.119458570288836': 1181, '0.2413959344128977_9.350636439938992_0.14678870854465753_12.119458570288836': 1999, '1.2759680616845095_9.350636439938992_0.23828027922107448_12.119458570288836': 400, '0.8355997204061953_6.600667798266859e-90_0.16750322734812303_0.001': 2131, '0.2413959344128977_6.600667798266859e-90_0.14678870854465753_0.001': 50, '1.2759680616845095_6.600667798266859e-90_0.23828027922107448_0.001': 2159, '0.2413959344128977_174.5171517533616_0.14678870854465753_194.4500987118748': 671, '0.8355997204061953_174.5171517533616_0.16750322734812303_194.4500987118748': 34, '1.2759680616845095_174.5171517533616_0.23828027922107448_194.4500987118748': 89}\n",
      "根据BIC选择的最佳模型的估计均值:  [0.24150334 1.27507129 0.85656398]\n",
      "根据BIC选择的最佳模型的估计方差:  [0.02498015 0.03690442 0.03407838]\n",
      "根据BIC选择的最佳模型的估计权重:  [0.18265193 0.39241582 0.42493226]\n",
      "根据BIC选择的最佳模型的估计均值:  [1.48712109e+001 1.25709013e+002 1.59127087e-150]\n",
      "根据BIC选择的最佳模型的估计方差:  [2.58978579e+02 7.71141642e+03 1.00000000e-06]\n",
      "根据BIC选择的最佳模型的估计权重:  [0.29491851 0.04669943 0.65838206]\n",
      "{'0.8565639772328932_1.5912708704716173e-150_0.18460329097267747_0.001': 3363, '1.2750712853256698_14.871210879548286_0.19210522178241882_16.09281139517144': 328, '1.2750712853256698_1.5912708704716173e-150_0.19210522178241882_0.001': 4411, '0.24150333938903432_14.871210879548286_0.158051105301904_16.09281139517144': 1899, '0.24150333938903432_1.5912708704716173e-150_0.158051105301904_0.001': 27, '0.8565639772328932_14.871210879548286_0.18460329097267747_16.09281139517144': 1399, '0.8565639772328932_125.70901316924031_0.18460329097267747_87.8146708470025': 72, '0.24150333938903432_125.70901316924031_0.158051105301904_87.8146708470025': 641}\n",
      "根据BIC选择的最佳模型的估计均值:  [1.31462599 0.26996965 0.87008295]\n",
      "根据BIC选择的最佳模型的估计方差:  [0.03511593 0.02684208 0.03129131]\n",
      "根据BIC选择的最佳模型的估计权重:  [0.35752466 0.21367629 0.42879905]\n",
      "根据BIC选择的最佳模型的估计均值:  [2.95055357e-92 1.16829275e+01 9.51712262e+01]\n",
      "根据BIC选择的最佳模型的估计方差:  [1.00000000e-06 1.86376197e+02 5.81601873e+03]\n",
      "根据BIC选择的最佳模型的估计权重:  [0.63133288 0.31194176 0.05672537]\n",
      "{'0.26996965450096944_11.682927487958517_0.1638355260394467_13.651966764924858': 1683, '0.8700829526646567_2.9505535676498577e-92_0.1768935047751655_0.001': 3375, '0.26996965450096944_95.17122620672622_0.1638355260394467_76.26282665141203': 642, '0.8700829526646567_11.682927487958517_0.1768935047751655_13.651966764924858': 1225, '0.8700829526646567_95.17122620672622_0.1768935047751655_76.26282665141203': 60, '0.26996965450096944_2.9505535676498577e-92_0.1638355260394467_0.001': 89, '1.3146259859905467_2.9505535676498577e-92_0.18739244438518535_0.001': 3363, '1.3146259859905467_11.682927487958517_0.18739244438518535_13.651966764924858': 323, '1.3146259859905467_95.17122620672622_0.18739244438518535_76.26282665141203': 62}\n",
      "根据BIC选择的最佳模型的估计均值:  [0.81483096 0.24217602 1.28080056]\n",
      "根据BIC选择的最佳模型的估计方差:  [0.02974888 0.01980981 0.03931678]\n",
      "根据BIC选择的最佳模型的估计权重:  [0.38111659 0.34202812 0.2768553 ]\n",
      "根据BIC选择的最佳模型的估计均值:  [1.48256818e-02 1.17397586e+01 1.12128795e+02]\n",
      "根据BIC选择的最佳模型的估计方差:  [1.11050687e-03 1.68430700e+02 1.05975304e+04]\n",
      "根据BIC选择的最佳模型的估计权重:  [0.58089265 0.34208585 0.0770215 ]\n",
      "{'1.2808005629046715_0.014825681803659391_0.19828459333025542_0.033324268459585624': 2493, '0.24217602439178426_11.73975864886574_0.14074731690165132_12.978085380990928': 1418, '0.24217602439178426_0.014825681803659391_0.14074731690165132_0.033324268459585624': 860, '0.8148309577334414_0.014825681803659391_0.17247864351209902_0.033324268459585624': 2581, '0.24217602439178426_112.12879544608661_0.14074731690165132_102.94430730189892': 473, '0.8148309577334414_11.73975864886574_0.17247864351209902_12.978085380990928': 630, '1.2808005629046715_112.12879544608661_0.19828459333025542_102.94430730189892': 70, '1.2808005629046715_11.73975864886574_0.19828459333025542_12.978085380990928': 377, '0.8148309577334414_112.12879544608661_0.17247864351209902_102.94430730189892': 40}\n",
      "根据BIC选择的最佳模型的估计均值:  [0.88385744 1.3032602  0.34858259]\n",
      "根据BIC选择的最佳模型的估计方差:  [0.03350343 0.04572835 0.03997087]\n",
      "根据BIC选择的最佳模型的估计权重:  [0.43685329 0.38737644 0.17577027]\n",
      "根据BIC选择的最佳模型的估计均值:  [2.38147382e-113 1.35879687e+001 2.15908647e+002]\n",
      "根据BIC选择的最佳模型的估计方差:  [1.00000000e-06 2.30891497e+02 5.00751783e+04]\n",
      "根据BIC选择的最佳模型的估计权重:  [0.61867936 0.33791454 0.0434061 ]\n",
      "{'0.34858259090321786_13.587968684690138_0.19992715314303122_15.19511425081783': 1915, '0.8838574418720596_2.381473821406373e-113_0.1830394338674714_0.001': 3501, '1.30326020394974_2.381473821406373e-113_0.2138418887739389_0.001': 3720, '0.8838574418720596_13.587968684690138_0.1830394338674714_15.19511425081783': 1658, '0.34858259090321786_215.90864731756292_0.19992715314303122_223.77483838574878': 467, '1.30326020394974_13.587968684690138_0.2138418887739389_15.19511425081783': 441, '0.34858259090321786_2.381473821406373e-113_0.19992715314303122_0.001': 39, '1.30326020394974_215.90864731756292_0.2138418887739389_223.77483838574878': 318, '0.8838574418720596_215.90864731756292_0.1830394338674714_223.77483838574878': 43}\n",
      "根据BIC选择的最佳模型的估计均值:  [0.8967107  0.2801289  1.29020982]\n",
      "根据BIC选择的最佳模型的估计方差:  [0.0412735  0.0288808  0.05711781]\n",
      "根据BIC选择的最佳模型的估计权重:  [0.45515551 0.22123482 0.32360967]\n",
      "根据BIC选择的最佳模型的估计均值:  [1.27512930e-90 1.14234332e+01 1.49262051e+02]\n",
      "根据BIC选择的最佳模型的估计方差:  [1.00000000e-06 1.82193574e+02 2.26868223e+04]\n",
      "根据BIC选择的最佳模型的估计权重:  [0.55847874 0.3586808  0.08284045]\n",
      "{'0.8967106975957465_11.423433240086638_0.20315881636586988_13.497910004079667': 1470, '0.2801289027657477_149.2620509122567_0.16994350777364775_150.62145363195052': 907, '0.8967106975957465_149.2620509122567_0.20315881636586988_150.62145363195052': 64, '0.2801289027657477_11.423433240086638_0.16994350777364775_13.497910004079667': 1499, '1.2902098153550328_1.2751293040751432e-90_0.2389933258628498_0.001': 2267, '0.8967106975957465_1.2751293040751432e-90_0.20315881636586988_0.001': 3057, '1.2902098153550328_11.423433240086638_0.2389933258628498_13.497910004079667': 453, '0.2801289027657477_1.2751293040751432e-90_0.16994350777364775_0.001': 14, '1.2902098153550328_149.2620509122567_0.2389933258628498_150.62145363195052': 266}\n",
      "根据BIC选择的最佳模型的估计均值:  [0.88092915 1.30215189 0.25976468]\n",
      "根据BIC选择的最佳模型的估计方差:  [0.0316671  0.03478423 0.02300799]\n",
      "根据BIC选择的最佳模型的估计权重:  [0.44206968 0.38035461 0.17757571]\n",
      "根据BIC选择的最佳模型的估计均值:  [1.20197392e-100 1.25972584e+001 9.22869130e+001]\n",
      "根据BIC选择的最佳模型的估计方差:  [1.00000000e-06 2.03906317e+02 4.54041102e+03]\n",
      "根据BIC选择的最佳模型的估计权重:  [0.65110135 0.29562525 0.0532734 ]\n",
      "{'0.259764681157677_12.597258424050429_0.15168386185761226_14.279576927604776': 1722, '0.259764681157677_92.28691302410628_0.15168386185761226_67.38257205362495': 552, '0.8809291463381621_12.597258424050429_0.17795251776562213_14.279576927604776': 1410, '1.3021518899606013_1.2019739153371998e-100_0.1865053005400315_0.001': 3985, '0.8809291463381621_1.2019739153371998e-100_0.17795251776562213_0.001': 3598, '1.3021518899606013_12.597258424050429_0.1865053005400315_14.279576927604776': 242, '0.259764681157677_1.2019739153371998e-100_0.15168386185761226_0.001': 3, '0.8809291463381621_92.28691302410628_0.17795251776562213_67.38257205362495': 72, '1.3021518899606013_92.28691302410628_0.1865053005400315_67.38257205362495': 85}\n"
     ]
    },
    {
     "name": "stderr",
     "output_type": "stream",
     "text": [
      "/data1/jiangy/U-LFormer/code/no_pipeline_eval_metrics.py:247: VisibleDeprecationWarning: Creating an ndarray from ragged nested sequences (which is a list-or-tuple of lists-or-tuples-or ndarrays with different lengths or shapes) is deprecated. If you meant to do this, you must specify 'dtype=object' when creating the ndarray.\n",
      "  test_set1 = np.asarray(valid_set1)\n",
      "2025-03-31 20:19:49,830 | INFO : Creating model ...\n",
      "2025-03-31 20:19:49,875 | INFO : Total number of parameters: 3057318\n",
      "2025-03-31 20:19:49,877 | INFO : Trainable parameters: 3057318\n",
      "/data1/jiangy/U-LFormer/code/no_pipeline_eval_metrics.py:354: VisibleDeprecationWarning: Creating an ndarray from ragged nested sequences (which is a list-or-tuple of lists-or-tuples-or ndarrays with different lengths or shapes) is deprecated. If you meant to do this, you must specify 'dtype=object' when creating the ndarray.\n",
      "  train_set1 = np.asarray(train_set1)\n",
      "2025-03-31 20:19:49,971 | INFO : 38 samples will be used for testing\n"
     ]
    },
    {
     "name": "stdout",
     "output_type": "stream",
     "text": [
      "<built-in function log10>\n",
      "noLSTM: False, noTrans: False\n",
      "Loaded model from ../model_chkpt/_2024-12-06_14-03-17_k9l/checkpoints/model_best_seg.pth. Epoch: 448\n",
      "<built-in function log10>\n",
      "max_len:  200 193\n"
     ]
    },
    {
     "name": "stderr",
     "output_type": "stream",
     "text": [
      "2025-03-31 20:19:50,501 | INFO : epoch_a_mae: 0.40761643648147583, epoch_k_mae:0.676459789276123\n",
      "2025-03-31 20:19:50,503 | INFO : epoch_a_mse: 0.298953652381897, epoch_k_mse:2.313140869140625\n",
      "2025-03-31 20:19:50,526 | INFO : Creating model ...\n",
      "2025-03-31 20:19:50,564 | INFO : Total number of parameters: 3057318\n",
      "2025-03-31 20:19:50,566 | INFO : Trainable parameters: 3057318\n",
      "2025-03-31 20:19:50,637 | INFO : 13 samples will be used for testing\n"
     ]
    },
    {
     "name": "stdout",
     "output_type": "stream",
     "text": [
      "<built-in function log10>\n",
      "noLSTM: False, noTrans: False\n",
      "Loaded model from ../model_chkpt/_2024-12-06_14-03-17_k9l/checkpoints/model_best_seg.pth. Epoch: 448\n",
      "<built-in function log10>\n",
      "max_len:  200 200\n"
     ]
    },
    {
     "name": "stderr",
     "output_type": "stream",
     "text": [
      "2025-03-31 20:19:51,217 | INFO : epoch_a_mae: 0.38821402192115784, epoch_k_mae:0.8428217768669128\n",
      "2025-03-31 20:19:51,219 | INFO : epoch_a_mse: 0.2508886158466339, epoch_k_mse:1.6936073303222656\n",
      "2025-03-31 20:19:51,237 | INFO : Creating model ...\n",
      "2025-03-31 20:19:51,276 | INFO : Total number of parameters: 3057318\n",
      "2025-03-31 20:19:51,277 | INFO : Trainable parameters: 3057318\n",
      "2025-03-31 20:19:51,377 | INFO : 7 samples will be used for testing\n"
     ]
    },
    {
     "name": "stdout",
     "output_type": "stream",
     "text": [
      "<built-in function log10>\n",
      "noLSTM: False, noTrans: False\n",
      "Loaded model from ../model_chkpt/_2024-12-06_14-03-17_k9l/checkpoints/model_best_seg.pth. Epoch: 448\n",
      "<built-in function log10>\n",
      "max_len:  200 200\n"
     ]
    },
    {
     "name": "stderr",
     "output_type": "stream",
     "text": [
      "2025-03-31 20:19:51,828 | INFO : epoch_a_mae: 0.8455918431282043, epoch_k_mae:1.7912442684173584\n",
      "2025-03-31 20:19:51,830 | INFO : epoch_a_mse: 1.011871099472046, epoch_k_mse:4.55117654800415\n",
      "2025-03-31 20:19:51,845 | INFO : Creating model ...\n",
      "2025-03-31 20:19:51,883 | INFO : Total number of parameters: 3057318\n",
      "2025-03-31 20:19:51,884 | INFO : Trainable parameters: 3057318\n",
      "2025-03-31 20:19:51,948 | INFO : 12 samples will be used for testing\n"
     ]
    },
    {
     "name": "stdout",
     "output_type": "stream",
     "text": [
      "<built-in function log10>\n",
      "noLSTM: False, noTrans: False\n",
      "Loaded model from ../model_chkpt/_2024-12-06_14-03-17_k9l/checkpoints/model_best_seg.pth. Epoch: 448\n",
      "<built-in function log10>\n",
      "max_len:  200 200\n"
     ]
    },
    {
     "name": "stderr",
     "output_type": "stream",
     "text": [
      "2025-03-31 20:19:52,423 | INFO : epoch_a_mae: 0.21304598450660706, epoch_k_mae:0.5941084027290344\n",
      "2025-03-31 20:19:52,426 | INFO : epoch_a_mse: 0.07140468060970306, epoch_k_mse:1.4467883110046387\n",
      "2025-03-31 20:19:52,451 | INFO : Creating model ...\n",
      "2025-03-31 20:19:52,498 | INFO : Total number of parameters: 3057318\n",
      "2025-03-31 20:19:52,500 | INFO : Trainable parameters: 3057318\n",
      "2025-03-31 20:19:52,565 | INFO : 51 samples will be used for testing\n"
     ]
    },
    {
     "name": "stdout",
     "output_type": "stream",
     "text": [
      "<built-in function log10>\n",
      "noLSTM: False, noTrans: False\n",
      "Loaded model from ../model_chkpt/_2024-12-06_14-03-17_k9l/checkpoints/model_best_seg.pth. Epoch: 448\n",
      "<built-in function log10>\n",
      "max_len:  200 200\n"
     ]
    },
    {
     "name": "stderr",
     "output_type": "stream",
     "text": [
      "2025-03-31 20:19:53,070 | INFO : epoch_a_mae: 0.3581031262874603, epoch_k_mae:0.6559522151947021\n",
      "2025-03-31 20:19:53,072 | INFO : epoch_a_mse: 0.2170107513666153, epoch_k_mse:2.3544139862060547\n",
      "2025-03-31 20:19:53,086 | INFO : Creating model ...\n",
      "2025-03-31 20:19:53,140 | INFO : Total number of parameters: 3057318\n",
      "2025-03-31 20:19:53,142 | INFO : Trainable parameters: 3057318\n",
      "2025-03-31 20:19:53,238 | INFO : 10 samples will be used for testing\n"
     ]
    },
    {
     "name": "stdout",
     "output_type": "stream",
     "text": [
      "<built-in function log10>\n",
      "noLSTM: False, noTrans: False\n",
      "Loaded model from ../model_chkpt/_2024-12-06_14-03-17_k9l/checkpoints/model_best_seg.pth. Epoch: 448\n",
      "<built-in function log10>\n",
      "max_len:  200 200\n"
     ]
    },
    {
     "name": "stderr",
     "output_type": "stream",
     "text": [
      "2025-03-31 20:19:53,828 | INFO : epoch_a_mae: 0.395751953125, epoch_k_mae:0.8840224742889404\n",
      "2025-03-31 20:19:53,831 | INFO : epoch_a_mse: 0.22257286310195923, epoch_k_mse:2.827286720275879\n",
      "2025-03-31 20:19:53,855 | INFO : Creating model ...\n",
      "2025-03-31 20:19:53,900 | INFO : Total number of parameters: 3057318\n",
      "2025-03-31 20:19:53,901 | INFO : Trainable parameters: 3057318\n",
      "2025-03-31 20:19:53,968 | INFO : 7 samples will be used for testing\n"
     ]
    },
    {
     "name": "stdout",
     "output_type": "stream",
     "text": [
      "<built-in function log10>\n",
      "noLSTM: False, noTrans: False\n",
      "Loaded model from ../model_chkpt/_2024-12-06_14-03-17_k9l/checkpoints/model_best_seg.pth. Epoch: 448\n",
      "<built-in function log10>\n",
      "max_len:  200 200\n"
     ]
    },
    {
     "name": "stderr",
     "output_type": "stream",
     "text": [
      "2025-03-31 20:19:54,351 | INFO : epoch_a_mae: 0.7333136796951294, epoch_k_mae:0.8234207630157471\n",
      "2025-03-31 20:19:54,352 | INFO : epoch_a_mse: 0.7852180600166321, epoch_k_mse:1.0641788244247437\n",
      "2025-03-31 20:19:54,376 | INFO : Creating model ...\n",
      "2025-03-31 20:19:54,413 | INFO : Total number of parameters: 3057318\n",
      "2025-03-31 20:19:54,414 | INFO : Trainable parameters: 3057318\n"
     ]
    },
    {
     "name": "stdout",
     "output_type": "stream",
     "text": [
      "<built-in function log10>\n",
      "noLSTM: False, noTrans: False\n",
      "Loaded model from ../model_chkpt/_2024-12-06_14-03-17_k9l/checkpoints/model_best_seg.pth. Epoch: 448\n"
     ]
    },
    {
     "name": "stderr",
     "output_type": "stream",
     "text": [
      "2025-03-31 20:19:54,594 | INFO : 58 samples will be used for testing\n"
     ]
    },
    {
     "name": "stdout",
     "output_type": "stream",
     "text": [
      "<built-in function log10>\n",
      "max_len:  200 200\n"
     ]
    },
    {
     "name": "stderr",
     "output_type": "stream",
     "text": [
      "2025-03-31 20:19:55,158 | INFO : epoch_a_mae: 0.4333740770816803, epoch_k_mae:0.766636848449707\n",
      "2025-03-31 20:19:55,159 | INFO : epoch_a_mse: 0.352643758058548, epoch_k_mse:2.7558038234710693\n",
      "2025-03-31 20:19:55,182 | INFO : Creating model ...\n",
      "2025-03-31 20:19:55,219 | INFO : Total number of parameters: 3057318\n",
      "2025-03-31 20:19:55,220 | INFO : Trainable parameters: 3057318\n"
     ]
    },
    {
     "name": "stdout",
     "output_type": "stream",
     "text": [
      "<built-in function log10>\n",
      "noLSTM: False, noTrans: False\n"
     ]
    },
    {
     "name": "stderr",
     "output_type": "stream",
     "text": [
      "2025-03-31 20:19:55,460 | INFO : 9 samples will be used for testing\n"
     ]
    },
    {
     "name": "stdout",
     "output_type": "stream",
     "text": [
      "Loaded model from ../model_chkpt/_2024-12-06_14-03-17_k9l/checkpoints/model_best_seg.pth. Epoch: 448\n",
      "<built-in function log10>\n",
      "max_len:  200 200\n"
     ]
    },
    {
     "name": "stderr",
     "output_type": "stream",
     "text": [
      "2025-03-31 20:19:55,920 | INFO : epoch_a_mae: 0.8084272146224976, epoch_k_mae:2.300187349319458\n",
      "2025-03-31 20:19:55,921 | INFO : epoch_a_mse: 0.8964748978614807, epoch_k_mse:8.097066879272461\n",
      "2025-03-31 20:19:55,944 | INFO : Creating model ...\n",
      "2025-03-31 20:19:55,981 | INFO : Total number of parameters: 3057318\n",
      "2025-03-31 20:19:55,982 | INFO : Trainable parameters: 3057318\n"
     ]
    },
    {
     "name": "stdout",
     "output_type": "stream",
     "text": [
      "<built-in function log10>\n",
      "noLSTM: False, noTrans: False\n"
     ]
    },
    {
     "name": "stderr",
     "output_type": "stream",
     "text": [
      "2025-03-31 20:19:56,266 | INFO : 35 samples will be used for testing\n"
     ]
    },
    {
     "name": "stdout",
     "output_type": "stream",
     "text": [
      "Loaded model from ../model_chkpt/_2024-12-06_14-03-17_k9l/checkpoints/model_best_seg.pth. Epoch: 448\n",
      "<built-in function log10>\n",
      "max_len:  200 200\n"
     ]
    },
    {
     "name": "stderr",
     "output_type": "stream",
     "text": [
      "2025-03-31 20:19:56,855 | INFO : epoch_a_mae: 0.4366752505302429, epoch_k_mae:0.8847032785415649\n",
      "2025-03-31 20:19:56,856 | INFO : epoch_a_mse: 0.3290320932865143, epoch_k_mse:3.0700442790985107\n"
     ]
    },
    {
     "name": "stdout",
     "output_type": "stream",
     "text": [
      "./tmp/0121/data_1_model_1/track1/exp_0/fov_0.txt exists:  True\n",
      "./tmp/0121/data_1_model_1/track1/exp_1/fov_0.txt exists:  True\n",
      "./tmp/0121/data_1_model_1/track1/exp_2/fov_0.txt exists:  True\n",
      "./tmp/0121/data_1_model_1/track1/exp_3/fov_0.txt exists:  True\n",
      "./tmp/0121/data_1_model_1/track1/exp_4/fov_0.txt exists:  True\n",
      "./tmp/0121/data_1_model_1/track1/exp_5/fov_0.txt exists:  True\n",
      "./tmp/0121/data_1_model_1/track1/exp_6/fov_0.txt exists:  True\n",
      "./tmp/0121/data_1_model_1/track1/exp_7/fov_0.txt exists:  True\n",
      "./tmp/0121/data_1_model_1/track1/exp_8/fov_0.txt exists:  True\n",
      "./tmp/0121/data_1_model_1/track1/exp_9/fov_0.txt exists:  True\n",
      "根据BIC选择的最佳模型的估计均值:  [1.09464572 1.56370113 0.67791876]\n",
      "根据BIC选择的最佳模型的估计方差:  [0.041172   0.03932762 0.04727487]\n",
      "根据BIC选择的最佳模型的估计权重:  [0.42003833 0.1830167  0.39694496]\n",
      "根据BIC选择的最佳模型的估计均值:  [ 0.08658819 22.47479953 19.0757224 ]\n",
      "根据BIC选择的最佳模型的估计方差:  [3.27276766e-02 4.39679817e+02 1.89605525e+00]\n",
      "根据BIC选择的最佳模型的估计权重:  [0.80977661 0.15157344 0.03864996]\n",
      "{'1.094645716206049_0.08658818977838197_0.2029088434766257_0.18090792288309693': 467, '0.6779187600614628_19.075722396007897_0.21742785334085882_1.3769732219784245': 21, '0.6779187600614628_0.08658818977838197_0.21742785334085882_0.18090792288309693': 372, '0.6779187600614628_22.474799533043196_0.21742785334085882_20.968543521240985': 133, '1.5637011269328835_0.08658818977838197_0.1983119274560712_0.18090792288309693': 360, '1.5637011269328835_22.474799533043196_0.1983119274560712_20.968543521240985': 3, '1.094645716206049_19.075722396007897_0.2029088434766257_1.3769732219784245': 11, '1.094645716206049_22.474799533043196_0.2029088434766257_20.968543521240985': 15}\n",
      "根据BIC选择的最佳模型的估计均值:  [0.36020658 1.46778009 0.61301671]\n",
      "根据BIC选择的最佳模型的估计方差:  [0.02028187 0.04863433 0.0611624 ]\n",
      "根据BIC选择的最佳模型的估计权重:  [0.38706801 0.27861105 0.33432094]\n",
      "根据BIC选择的最佳模型的估计均值:  [ 0.17934751 13.28826174 31.76991433]\n",
      "根据BIC选择的最佳模型的估计方差:  [4.46163229e-02 3.59400952e+01 1.00000000e-06]\n",
      "根据BIC选择的最佳模型的估计权重:  [0.66377153 0.30845114 0.02777734]\n",
      "{'0.3602065833104342_0.17934751072930638_0.14241444140127715_0.2112257628201874': 785, '0.3602065833104342_31.76991432579602_0.14241444140127715_0.001': 5, '0.6130167061345472_0.17934751072930638_0.24731032261376237_0.2112257628201874': 179, '1.46778008756623_13.288261739940797_0.22053192495124815_5.995005851090944': 158, '0.6130167061345472_13.288261739940797_0.24731032261376237_5.995005851090944': 40, '1.46778008756623_0.17934751072930638_0.22053192495124815_0.2112257628201874': 13}\n",
      "根据BIC选择的最佳模型的估计均值:  [0.76661731 0.25480684 1.41519105]\n",
      "根据BIC选择的最佳模型的估计方差:  [0.05401317 0.022314   0.04505367]\n",
      "根据BIC选择的最佳模型的估计权重:  [0.16306596 0.50801212 0.32892192]\n",
      "根据BIC选择的最佳模型的估计均值:  [ 0.03358505  2.13149788 14.79290623]\n",
      "根据BIC选择的最佳模型的估计方差:  [8.29608764e-04 4.07273924e+00 1.00000000e-06]\n",
      "根据BIC选择的最佳模型的估计权重:  [0.5211707  0.45251351 0.02631579]\n",
      "{'0.25480684191947917_2.1314978763119994_0.149378696875018_2.0181028813169135': 278, '1.4151910516644974_0.03358504795927078_0.21225850108305613_0.02880292978249153': 539, '0.7666173122305874_2.1314978763119994_0.23240732999877872_2.0181028813169135': 16, '1.4151910516644974_2.1314978763119994_0.21225850108305613_2.0181028813169135': 3, '0.25480684191947917_0.03358504795927078_0.149378696875018_0.02880292978249153': 35, '0.7666173122305874_0.03358504795927078_0.23240732999877872_0.02880292978249153': 313, '0.25480684191947917_14.792906232556527_0.149378696875018_0.001': 16}\n",
      "根据BIC选择的最佳模型的估计均值:  [0.06035433 0.92752046 0.34447161]\n",
      "根据BIC选择的最佳模型的估计方差:  [0.00143672 0.0164081  0.01291355]\n",
      "根据BIC选择的最佳模型的估计权重:  [0.55470167 0.25244381 0.19285453]\n",
      "根据BIC选择的最佳模型的估计均值:  [0.84152212 3.3104516  0.07528896]\n",
      "根据BIC选择的最佳模型的估计方差:  [0.00573293 0.61239323 0.0090537 ]\n",
      "根据BIC选择的最佳模型的估计权重:  [0.07102052 0.35759446 0.57138502]\n",
      "{'0.060354332597623066_3.310451601041764_0.037904067177708736_0.7825555746702254': 499, '0.3444716085319433_0.07528896078758018_0.11363778790166712_0.09515093057634899': 12, '0.060354332597623066_0.07528896078758018_0.037904067177708736_0.09515093057634899': 260, '0.060354332597623066_0.841522121972906_0.037904067177708736_0.07571612562842246': 3, '0.3444716085319433_3.310451601041764_0.11363778790166712_0.7825555746702254': 69, '0.9275204569957163_0.07528896078758018_0.12809409198337318_0.09515093057634899': 60, '0.3444716085319433_0.841522121972906_0.11363778790166712_0.07571612562842246': 3}\n",
      "根据BIC选择的最佳模型的估计均值:  [1.30709423 0.25698393 0.91012065]\n",
      "根据BIC选择的最佳模型的估计方差:  [0.03538495 0.0278406  0.04281836]\n",
      "根据BIC选择的最佳模型的估计权重:  [0.51161692 0.14058901 0.34779406]\n",
      "根据BIC选择的最佳模型的估计均值:  [1.17550969e-102 1.04330642e+002 1.24428100e+001]\n",
      "根据BIC选择的最佳模型的估计方差:  [1.00000000e-06 3.67516609e+03 1.56198829e+02]\n",
      "根据BIC选择的最佳模型的估计权重:  [0.63957892 0.05528101 0.30514008]\n",
      "{'0.9101206487884932_12.442809970283028_0.206925976982541_12.497953000192002': 208, '0.9101206487884932_1.1755096870588574e-102_0.206925976982541_0.001': 285, '1.307094234610006_12.442809970283028_0.18810887436552934_12.497953000192002': 135, '1.307094234610006_1.1755096870588574e-102_0.18810887436552934_0.001': 566, '0.25698392679001214_1.1755096870588574e-102_0.16685502370397645_0.001': 68, '0.25698392679001214_12.442809970283028_0.16685502370397645_12.497953000192002': 278, '1.307094234610006_104.33064208319325_0.18810887436552934_60.623148172785726': 32, '0.25698392679001214_104.33064208319325_0.16685502370397645_60.623148172785726': 23, '0.9101206487884932_104.33064208319325_0.206925976982541_60.623148172785726': 12}\n",
      "根据BIC选择的最佳模型的估计均值:  [0.75685267 0.29048962 1.03607281]\n",
      "根据BIC选择的最佳模型的估计方差:  [0.01261476 0.01063272 0.03590908]\n",
      "根据BIC选择的最佳模型的估计权重:  [0.49427533 0.20792058 0.29780409]\n",
      "根据BIC选择的最佳模型的估计均值:  [ 0.         16.47860554  6.82007721]\n",
      "根据BIC选择的最佳模型的估计方差:  [1.00000000e-06 1.82009330e+00 3.77322972e+01]\n",
      "根据BIC选择的最佳模型的估计权重:  [0.66665372 0.1849012  0.14844507]\n",
      "{'1.036072807556288_6.820077208485276_0.18949690709714942_6.142662060484531': 107, '0.7568526717771276_0.0_0.11231545604323068_0.001': 316, '1.036072807556288_16.47860554328603_0.18949690709714942_1.3491083334706635': 8, '0.2904896183568661_16.47860554328603_0.10311508030570692_1.3491083334706635': 71, '1.036072807556288_0.0_0.18949690709714942_0.001': 34, '0.2904896183568661_6.820077208485276_0.10311508030570692_6.142662060484531': 11}\n",
      "根据BIC选择的最佳模型的估计均值:  [1.20393456 0.65784965 1.88175342]\n",
      "根据BIC选择的最佳模型的估计方差:  [0.0050731  0.02076034 0.00927936]\n",
      "根据BIC选择的最佳模型的估计权重:  [0.36138308 0.50225329 0.13636364]\n",
      "根据BIC选择的最佳模型的估计均值:  [  1.86341553 450.32945155 522.72089449]\n",
      "根据BIC选择的最佳模型的估计方差:  [2.43608516e+01 1.00000000e-06 1.00000000e-06]\n",
      "根据BIC选择的最佳模型的估计权重:  [0.90909091 0.04545455 0.04545455]\n",
      "{'1.2039345552330836_1.86341552892184_0.07122566945637582_4.935671345911136': 364, '0.6578496520131716_1.86341552892184_0.14408449042180382_4.935671345911136': 426, '1.8817534180251658_522.7208944875098_0.09632944775786798_0.001': 27, '1.8817534180251658_450.3294515485938_0.09632944775786798_0.001': 28, '1.8817534180251658_1.86341552892184_0.09632944775786798_4.935671345911136': 69}\n",
      "根据BIC选择的最佳模型的估计均值:  [0.9831222  0.43075582 1.37477856]\n",
      "根据BIC选择的最佳模型的估计方差:  [0.04650388 0.0665308  0.07322928]\n",
      "根据BIC选择的最佳模型的估计权重:  [0.38824055 0.12595198 0.48580746]\n",
      "根据BIC选择的最佳模型的估计均值:  [4.68638929e-147 1.23593820e+001 8.04037858e+001]\n",
      "根据BIC选择的最佳模型的估计方差:  [1.00000000e-06 1.86365296e+02 1.57194091e+02]\n",
      "根据BIC选择的最佳模型的估计权重:  [0.63372895 0.32750704 0.03876401]\n",
      "{'0.43075582453397626_12.359382016769043_0.2579356543302569_13.651567545545925': 127, '1.374778563453601_4.686389286338859e-147_0.27060909925011223_0.001': 799, '0.9831221960546223_12.359382016769043_0.21564758448547802_13.651567545545925': 358, '1.374778563453601_12.359382016769043_0.27060909925011223_13.651567545545925': 375, '0.43075582453397626_4.686389286338859e-147_0.2579356543302569_0.001': 66, '1.374778563453601_80.40378577989257_0.27060909925011223_12.537706784560507': 47, '0.9831221960546223_4.686389286338859e-147_0.21564758448547802_0.001': 410, '0.9831221960546223_80.40378577989257_0.21564758448547802_12.537706784560507': 17, '0.43075582453397626_80.40378577989257_0.2579356543302569_12.537706784560507': 3}\n",
      "根据BIC选择的最佳模型的估计均值:  [0.29405781 1.40017419 0.71122466]\n",
      "根据BIC选择的最佳模型的估计方差:  [0.01628809 0.05009911 0.03067788]\n",
      "根据BIC选择的最佳模型的估计权重:  [0.4307385  0.31948515 0.24977635]\n",
      "根据BIC选择的最佳模型的估计均值:  [ 7.55408718  0.15468665 27.13656344]\n",
      "根据BIC选择的最佳模型的估计方差:  [1.18528251e+00 1.69054825e-01 1.00000000e-06]\n",
      "根据BIC选择的最佳模型的估计权重:  [0.08549539 0.90230948 0.01219512]\n",
      "{'0.29405780666121284_0.1546866476679627_0.12762481847095555_0.4111627720618391': 319, '1.400174187192357_0.1546866476679627_0.2238283083543905_0.4111627720618391': 579, '0.7112246568057424_0.1546866476679627_0.17515102638625665_0.4111627720618391': 562, '0.29405780666121284_7.554087175353164_0.12762481847095555_1.0887068064122596': 43, '0.29405780666121284_27.136563443253298_0.12762481847095555_0.001': 3}\n",
      "根据BIC选择的最佳模型的估计均值:  [1.23954259 0.70488482 0.23878797]\n",
      "根据BIC选择的最佳模型的估计方差:  [0.0378831  0.02479604 0.02516813]\n",
      "根据BIC选择的最佳模型的估计权重:  [0.4877438  0.31637366 0.19588254]\n",
      "根据BIC选择的最佳模型的估计均值:  [2.25300700e-02 3.67696126e+02 1.45739977e+01]\n",
      "根据BIC选择的最佳模型的估计方差:  [2.17758309e-03 1.00000000e-06 2.39017244e+02]\n",
      "根据BIC选择的最佳模型的估计权重:  [0.67476525 0.00714286 0.31809189]\n",
      "{'0.704884821376848_0.022530069961771437_0.15746759775815464_0.0466645806282685': 700, '1.2395425873308472_0.022530069961771437_0.1946358121824399_0.0466645806282685': 846, '0.704884821376848_367.6961255809967_0.15746759775815464_0.001': 8, '1.2395425873308472_14.573997726250795_0.1946358121824399_15.460182528545353': 54, '0.23878797334367252_14.573997726250795_0.15864465747909579_15.460182528545353': 127, '0.23878797334367252_0.022530069961771437_0.15864465747909579_0.0466645806282685': 7, '0.704884821376848_14.573997726250795_0.15746759775815464_15.460182528545353': 37}\n"
     ]
    },
    {
     "name": "stderr",
     "output_type": "stream",
     "text": [
      "/data1/jiangy/U-LFormer/code/no_pipeline_eval_metrics.py:247: VisibleDeprecationWarning: Creating an ndarray from ragged nested sequences (which is a list-or-tuple of lists-or-tuples-or ndarrays with different lengths or shapes) is deprecated. If you meant to do this, you must specify 'dtype=object' when creating the ndarray.\n",
      "  test_set1 = np.asarray(valid_set1)\n",
      "2025-03-31 20:20:00,979 | INFO : Creating model ...\n",
      "2025-03-31 20:20:01,032 | INFO : Total number of parameters: 3057318\n",
      "2025-03-31 20:20:01,033 | INFO : Trainable parameters: 3057318\n",
      "/data1/jiangy/U-LFormer/code/no_pipeline_eval_metrics.py:354: VisibleDeprecationWarning: Creating an ndarray from ragged nested sequences (which is a list-or-tuple of lists-or-tuples-or ndarrays with different lengths or shapes) is deprecated. If you meant to do this, you must specify 'dtype=object' when creating the ndarray.\n",
      "  train_set1 = np.asarray(train_set1)\n",
      "2025-03-31 20:20:01,145 | INFO : 146 samples will be used for testing\n"
     ]
    },
    {
     "name": "stdout",
     "output_type": "stream",
     "text": [
      "<built-in function log10>\n",
      "noLSTM: False, noTrans: False\n",
      "Loaded model from ../model_chkpt/_2024-12-06_14-03-17_k9l/checkpoints/model_best_seg.pth. Epoch: 448\n",
      "<built-in function log10>\n",
      "max_len:  200 200\n"
     ]
    },
    {
     "name": "stderr",
     "output_type": "stream",
     "text": [
      "2025-03-31 20:20:01,903 | INFO : epoch_a_mae: 0.34097498655319214, epoch_k_mae:0.5811214447021484\n",
      "2025-03-31 20:20:01,904 | INFO : epoch_a_mse: 0.19090354442596436, epoch_k_mse:2.0761055946350098\n",
      "2025-03-31 20:20:01,959 | INFO : Creating model ...\n",
      "2025-03-31 20:20:02,004 | INFO : Total number of parameters: 3057318\n",
      "2025-03-31 20:20:02,005 | INFO : Trainable parameters: 3057318\n",
      "2025-03-31 20:20:02,114 | INFO : 125 samples will be used for testing\n"
     ]
    },
    {
     "name": "stdout",
     "output_type": "stream",
     "text": [
      "<built-in function log10>\n",
      "noLSTM: False, noTrans: False\n",
      "Loaded model from ../model_chkpt/_2024-12-06_14-03-17_k9l/checkpoints/model_best_seg.pth. Epoch: 448\n",
      "<built-in function log10>\n",
      "max_len:  200 200\n"
     ]
    },
    {
     "name": "stderr",
     "output_type": "stream",
     "text": [
      "2025-03-31 20:20:02,817 | INFO : epoch_a_mae: 0.391630619764328, epoch_k_mae:0.6514744162559509\n",
      "2025-03-31 20:20:02,819 | INFO : epoch_a_mse: 0.2798347473144531, epoch_k_mse:2.2080771923065186\n",
      "2025-03-31 20:20:02,859 | INFO : Creating model ...\n",
      "2025-03-31 20:20:02,895 | INFO : Total number of parameters: 3057318\n",
      "2025-03-31 20:20:02,896 | INFO : Trainable parameters: 3057318\n",
      "2025-03-31 20:20:03,004 | INFO : 48 samples will be used for testing\n"
     ]
    },
    {
     "name": "stdout",
     "output_type": "stream",
     "text": [
      "<built-in function log10>\n",
      "noLSTM: False, noTrans: False\n",
      "Loaded model from ../model_chkpt/_2024-12-06_14-03-17_k9l/checkpoints/model_best_seg.pth. Epoch: 448\n",
      "<built-in function log10>\n",
      "max_len:  200 200\n"
     ]
    },
    {
     "name": "stderr",
     "output_type": "stream",
     "text": [
      "2025-03-31 20:20:03,481 | INFO : epoch_a_mae: 0.3720475733280182, epoch_k_mae:0.7882151007652283\n",
      "2025-03-31 20:20:03,482 | INFO : epoch_a_mse: 0.24451258778572083, epoch_k_mse:1.9016101360321045\n",
      "2025-03-31 20:20:03,524 | INFO : Creating model ...\n",
      "2025-03-31 20:20:03,560 | INFO : Total number of parameters: 3057318\n",
      "2025-03-31 20:20:03,562 | INFO : Trainable parameters: 3057318\n"
     ]
    },
    {
     "name": "stdout",
     "output_type": "stream",
     "text": [
      "<built-in function log10>\n",
      "noLSTM: False, noTrans: False\n",
      "Loaded model from ../model_chkpt/_2024-12-06_14-03-17_k9l/checkpoints/model_best_seg.pth. Epoch: 448\n"
     ]
    },
    {
     "name": "stderr",
     "output_type": "stream",
     "text": [
      "2025-03-31 20:20:03,785 | INFO : 73 samples will be used for testing\n"
     ]
    },
    {
     "name": "stdout",
     "output_type": "stream",
     "text": [
      "<built-in function log10>\n",
      "max_len:  200 200\n"
     ]
    },
    {
     "name": "stderr",
     "output_type": "stream",
     "text": [
      "2025-03-31 20:20:04,344 | INFO : epoch_a_mae: 0.38635745644569397, epoch_k_mae:0.8903000354766846\n",
      "2025-03-31 20:20:04,346 | INFO : epoch_a_mse: 0.26464220881462097, epoch_k_mse:3.1820216178894043\n",
      "2025-03-31 20:20:04,372 | INFO : Creating model ...\n",
      "2025-03-31 20:20:04,409 | INFO : Total number of parameters: 3057318\n",
      "2025-03-31 20:20:04,410 | INFO : Trainable parameters: 3057318\n",
      "2025-03-31 20:20:04,490 | INFO : 37 samples will be used for testing\n"
     ]
    },
    {
     "name": "stdout",
     "output_type": "stream",
     "text": [
      "<built-in function log10>\n",
      "noLSTM: False, noTrans: False\n",
      "Loaded model from ../model_chkpt/_2024-12-06_14-03-17_k9l/checkpoints/model_best_seg.pth. Epoch: 448\n",
      "<built-in function log10>\n",
      "max_len:  200 200\n"
     ]
    },
    {
     "name": "stderr",
     "output_type": "stream",
     "text": [
      "2025-03-31 20:20:05,004 | INFO : epoch_a_mae: 0.3956095576286316, epoch_k_mae:0.7271645069122314\n",
      "2025-03-31 20:20:05,005 | INFO : epoch_a_mse: 0.2612926661968231, epoch_k_mse:2.2015018463134766\n",
      "2025-03-31 20:20:05,044 | INFO : Creating model ...\n",
      "2025-03-31 20:20:05,081 | INFO : Total number of parameters: 3057318\n",
      "2025-03-31 20:20:05,082 | INFO : Trainable parameters: 3057318\n",
      "2025-03-31 20:20:05,168 | INFO : 35 samples will be used for testing\n"
     ]
    },
    {
     "name": "stdout",
     "output_type": "stream",
     "text": [
      "<built-in function log10>\n",
      "noLSTM: False, noTrans: False\n",
      "Loaded model from ../model_chkpt/_2024-12-06_14-03-17_k9l/checkpoints/model_best_seg.pth. Epoch: 448\n",
      "<built-in function log10>\n",
      "max_len:  200 200\n"
     ]
    },
    {
     "name": "stderr",
     "output_type": "stream",
     "text": [
      "2025-03-31 20:20:05,564 | INFO : epoch_a_mae: 0.6445518732070923, epoch_k_mae:0.7300066351890564\n",
      "2025-03-31 20:20:05,566 | INFO : epoch_a_mse: 0.6588558554649353, epoch_k_mse:1.002045750617981\n",
      "2025-03-31 20:20:05,625 | INFO : Creating model ...\n",
      "2025-03-31 20:20:05,662 | INFO : Total number of parameters: 3057318\n",
      "2025-03-31 20:20:05,664 | INFO : Trainable parameters: 3057318\n",
      "2025-03-31 20:20:05,805 | INFO : 35 samples will be used for testing\n"
     ]
    },
    {
     "name": "stdout",
     "output_type": "stream",
     "text": [
      "<built-in function log10>\n",
      "noLSTM: False, noTrans: False\n",
      "Loaded model from ../model_chkpt/_2024-12-06_14-03-17_k9l/checkpoints/model_best_seg.pth. Epoch: 448\n",
      "<built-in function log10>\n",
      "max_len:  200 200\n"
     ]
    },
    {
     "name": "stderr",
     "output_type": "stream",
     "text": [
      "2025-03-31 20:20:06,246 | INFO : epoch_a_mae: 0.6101449728012085, epoch_k_mae:1.8355116844177246\n",
      "2025-03-31 20:20:06,247 | INFO : epoch_a_mse: 0.5827522277832031, epoch_k_mse:5.205953121185303\n",
      "2025-03-31 20:20:06,293 | INFO : Creating model ...\n",
      "2025-03-31 20:20:06,333 | INFO : Total number of parameters: 3057318\n",
      "2025-03-31 20:20:06,334 | INFO : Trainable parameters: 3057318\n",
      "2025-03-31 20:20:06,419 | INFO : 102 samples will be used for testing\n"
     ]
    },
    {
     "name": "stdout",
     "output_type": "stream",
     "text": [
      "<built-in function log10>\n",
      "noLSTM: False, noTrans: False\n",
      "Loaded model from ../model_chkpt/_2024-12-06_14-03-17_k9l/checkpoints/model_best_seg.pth. Epoch: 448\n",
      "<built-in function log10>\n",
      "max_len:  200 200\n"
     ]
    },
    {
     "name": "stderr",
     "output_type": "stream",
     "text": [
      "2025-03-31 20:20:07,032 | INFO : epoch_a_mae: 0.364251971244812, epoch_k_mae:0.7145230770111084\n",
      "2025-03-31 20:20:07,034 | INFO : epoch_a_mse: 0.22295692563056946, epoch_k_mse:2.529798984527588\n",
      "2025-03-31 20:20:07,091 | INFO : Creating model ...\n",
      "2025-03-31 20:20:07,132 | INFO : Total number of parameters: 3057318\n",
      "2025-03-31 20:20:07,134 | INFO : Trainable parameters: 3057318\n",
      "2025-03-31 20:20:07,235 | INFO : 135 samples will be used for testing\n"
     ]
    },
    {
     "name": "stdout",
     "output_type": "stream",
     "text": [
      "<built-in function log10>\n",
      "noLSTM: False, noTrans: False\n",
      "Loaded model from ../model_chkpt/_2024-12-06_14-03-17_k9l/checkpoints/model_best_seg.pth. Epoch: 448\n",
      "<built-in function log10>\n",
      "max_len:  200 200\n"
     ]
    },
    {
     "name": "stderr",
     "output_type": "stream",
     "text": [
      "2025-03-31 20:20:07,925 | INFO : epoch_a_mae: 0.3843308687210083, epoch_k_mae:0.7371057271957397\n",
      "2025-03-31 20:20:07,927 | INFO : epoch_a_mse: 0.2592650353908539, epoch_k_mse:2.6049444675445557\n",
      "2025-03-31 20:20:07,961 | INFO : Creating model ...\n",
      "2025-03-31 20:20:08,000 | INFO : Total number of parameters: 3057318\n",
      "2025-03-31 20:20:08,001 | INFO : Trainable parameters: 3057318\n",
      "2025-03-31 20:20:08,079 | INFO : 35 samples will be used for testing\n"
     ]
    },
    {
     "name": "stdout",
     "output_type": "stream",
     "text": [
      "<built-in function log10>\n",
      "noLSTM: False, noTrans: False\n",
      "Loaded model from ../model_chkpt/_2024-12-06_14-03-17_k9l/checkpoints/model_best_seg.pth. Epoch: 448\n",
      "<built-in function log10>\n",
      "max_len:  200 200\n"
     ]
    },
    {
     "name": "stderr",
     "output_type": "stream",
     "text": [
      "2025-03-31 20:20:08,602 | INFO : epoch_a_mae: 0.34713056683540344, epoch_k_mae:0.9841269254684448\n",
      "2025-03-31 20:20:08,603 | INFO : epoch_a_mse: 0.18663716316223145, epoch_k_mse:2.3413960933685303\n"
     ]
    },
    {
     "name": "stdout",
     "output_type": "stream",
     "text": [
      "./tmp/0121/data_1_model_1/track1/exp_0/fov_0.txt exists:  True\n",
      "./tmp/0121/data_1_model_1/track1/exp_1/fov_0.txt exists:  True\n",
      "./tmp/0121/data_1_model_1/track1/exp_2/fov_0.txt exists:  True\n",
      "./tmp/0121/data_1_model_1/track1/exp_3/fov_0.txt exists:  True\n",
      "./tmp/0121/data_1_model_1/track1/exp_4/fov_0.txt exists:  True\n",
      "./tmp/0121/data_1_model_1/track1/exp_5/fov_0.txt exists:  True\n",
      "./tmp/0121/data_1_model_1/track1/exp_6/fov_0.txt exists:  True\n",
      "./tmp/0121/data_1_model_1/track1/exp_7/fov_0.txt exists:  True\n",
      "./tmp/0121/data_1_model_1/track1/exp_8/fov_0.txt exists:  True\n",
      "./tmp/0121/data_1_model_1/track1/exp_9/fov_0.txt exists:  True\n",
      "根据BIC选择的最佳模型的估计均值:  [1.30319002 0.28027811 0.83755593]\n",
      "根据BIC选择的最佳模型的估计方差:  [0.0359291  0.03151069 0.03913588]\n",
      "根据BIC选择的最佳模型的估计权重:  [0.3218867  0.27974471 0.39836859]\n",
      "根据BIC选择的最佳模型的估计均值:  [1.07286222e-93 1.02320211e+02 1.48941975e+01]\n",
      "根据BIC选择的最佳模型的估计方差:  [1.00000000e-06 5.81291388e+03 1.89982127e+02]\n",
      "根据BIC选择的最佳模型的估计权重:  [0.54500034 0.07251416 0.3824855 ]\n",
      "{'0.8375559310277205_14.894197549286236_0.19782791043103884_13.783400419155708': 521, '0.28027810658751584_102.32021099091581_0.17751251584347347_76.24246770813534': 448, '0.28027810658751584_14.894197549286236_0.17751251584347347_13.783400419155708': 1364, '0.8375559310277205_1.0728622203594404e-93_0.19782791043103884_0.001': 1163, '1.3031900178735643_14.894197549286236_0.189549730725622_13.783400419155708': 225, '0.28027810658751584_1.0728622203594404e-93_0.17751251584347347_0.001': 116, '1.3031900178735643_1.0728622203594404e-93_0.189549730725622_0.001': 1127, '0.8375559310277205_102.32021099091581_0.19782791043103884_76.24246770813534': 12, '1.3031900178735643_102.32021099091581_0.189549730725622_76.24246770813534': 49}\n",
      "根据BIC选择的最佳模型的估计均值:  [1.39832764 0.19056112 0.8411529 ]\n",
      "根据BIC选择的最佳模型的估计方差:  [0.06424682 0.01725239 0.05695133]\n",
      "根据BIC选择的最佳模型的估计权重:  [0.32546565 0.17644821 0.49808614]\n",
      "根据BIC选择的最佳模型的估计均值:  [3.51124442e-03 1.65912999e+02 1.11303211e+01]\n",
      "根据BIC选择的最佳模型的估计方差:  [1.06112578e-04 1.23118017e+04 1.90935769e+02]\n",
      "根据BIC选择的最佳模型的估计权重:  [0.48280797 0.08983248 0.42735955]\n",
      "{'1.3983276422762658_11.130321117722886_0.2534695616005627_13.817950960240667': 720, '1.3983276422762658_0.0035112444222630355_0.2534695616005627_0.010301095976257299': 878, '0.19056112314415108_0.0035112444222630355_0.13134834441009535_0.010301095976257299': 142, '0.8411528974267859_0.0035112444222630355_0.23864478272765796_0.010301095976257299': 1318, '0.8411528974267859_11.130321117722886_0.23864478272765796_13.817950960240667': 899, '0.19056112314415108_11.130321117722886_0.13134834441009535_13.817950960240667': 335, '0.19056112314415108_165.91299895615725_0.13134834441009535_110.9585584540344': 292, '1.3983276422762658_165.91299895615725_0.2534695616005627_110.9585584540344': 74, '0.8411528974267859_165.91299895615725_0.23864478272765796_110.9585584540344': 48}\n",
      "根据BIC选择的最佳模型的估计均值:  [0.27362426 0.95838226 1.54210323]\n",
      "根据BIC选择的最佳模型的估计方差:  [0.01852826 0.06006034 0.06624562]\n",
      "根据BIC选择的最佳模型的估计权重:  [0.5361934  0.28848439 0.17532221]\n",
      "根据BIC选择的最佳模型的估计均值:  [1.95739375e-01 6.60407213e+02 4.21774438e+01]\n",
      "根据BIC选择的最佳模型的估计方差:  [7.16824014e-02 2.32949553e+03 5.61185734e+03]\n",
      "根据BIC选择的最佳模型的估计权重:  [0.55730193 0.02000011 0.42269796]\n",
      "{'0.9583822647697684_42.17744383123846_0.24507210953220193_74.91233099593704': 431, '0.27362425923290035_0.19573937514222783_0.13611856112291446_0.2677356931529494': 2136, '0.27362425923290035_42.17744383123846_0.13611856112291446_74.91233099593704': 407, '0.9583822647697684_0.19573937514222783_0.24507210953220193_0.2677356931529494': 345, '1.5421032288698135_42.17744383123846_0.2573822506179132_74.91233099593704': 272, '1.5421032288698135_0.19573937514222783_0.2573822506179132_0.2677356931529494': 91, '0.27362425923290035_660.4072127395525_0.13611856112291446_48.264847786827445': 41, '1.5421032288698135_660.4072127395525_0.2573822506179132_48.264847786827445': 9}\n",
      "根据BIC选择的最佳模型的估计均值:  [0.23904893 0.81906784 1.41978841]\n",
      "根据BIC选择的最佳模型的估计方差:  [0.01999722 0.05033215 0.07745812]\n",
      "根据BIC选择的最佳模型的估计权重:  [0.33650793 0.46935178 0.1941403 ]\n",
      "根据BIC选择的最佳模型的估计均值:  [5.55625953e-03 1.35552833e+02 1.35397303e+01]\n",
      "根据BIC选择的最佳模型的估计方差:  [1.73337112e-04 1.76741146e+04 2.21636668e+02]\n",
      "根据BIC选择的最佳模型的估计权重:  [0.51931441 0.11248869 0.36819691]\n",
      "{'0.2390489346663293_13.539730348520232_0.14141153663308123_14.887466819674907': 477, '0.8190678383633934_13.539730348520232_0.224348283034409_14.887466819674907': 527, '0.2390489346663293_0.005556259526516523_0.14141153663308123_0.01316575528745988': 841, '0.8190678383633934_135.55283326224566_0.224348283034409_132.94402804094915': 47, '0.8190678383633934_0.005556259526516523_0.224348283034409_0.01316575528745988': 1060, '1.4197884108648584_0.005556259526516523_0.2783129895442592_0.01316575528745988': 680, '1.4197884108648584_135.55283326224566_0.2783129895442592_132.94402804094915': 62, '1.4197884108648584_13.539730348520232_0.2783129895442592_14.887466819674907': 98, '0.2390489346663293_135.55283326224566_0.14141153663308123_132.94402804094915': 238}\n",
      "根据BIC选择的最佳模型的估计均值:  [1.03825585 0.38511182 1.74344955]\n",
      "根据BIC选择的最佳模型的估计方差:  [0.04941656 0.05239363 0.04217012]\n",
      "根据BIC选择的最佳模型的估计权重:  [0.40322746 0.47746952 0.11930302]\n",
      "根据BIC选择的最佳模型的估计均值:  [1.14171011e+01 6.43755692e-03 7.38171074e+01]\n",
      "根据BIC选择的最佳模型的估计方差:  [1.09544612e+02 2.02872523e-04 2.06491550e+03]\n",
      "根据BIC选择的最佳模型的估计权重:  [0.39887134 0.49027228 0.11085638]\n",
      "{'1.0382558549977605_0.006437556915125828_0.22229835545079998_0.014243332587063466': 859, '1.7434495540124555_73.81710742069194_0.20535363906896906_45.44134130848687': 40, '1.7434495540124555_11.417101068471363_0.20535363906896906_10.466356182668713': 39, '1.0382558549977605_11.417101068471363_0.22229835545079998_10.466356182668713': 115, '1.7434495540124555_0.006437556915125828_0.20535363906896906_0.014243332587063466': 73, '0.3851118192350312_0.006437556915125828_0.22889654511893065_0.014243332587063466': 270, '0.3851118192350312_11.417101068471363_0.22889654511893065_10.466356182668713': 471, '0.3851118192350312_73.81710742069194_0.22889654511893065_45.44134130848687': 96}\n",
      "根据BIC选择的最佳模型的估计均值:  [1.04294138 0.34183778 1.6513525 ]\n",
      "根据BIC选择的最佳模型的估计方差:  [0.06363892 0.04402751 0.0601155 ]\n",
      "根据BIC选择的最佳模型的估计权重:  [0.4497101  0.40557201 0.14471789]\n",
      "根据BIC选择的最佳模型的估计均值:  [  0.87695311 553.99453162  70.82989958]\n",
      "根据BIC选择的最佳模型的估计方差:  [5.86790192e-01 1.00000000e-06 7.75286950e+03]\n",
      "根据BIC选择的最佳模型的估计权重:  [0.71122778 0.00833333 0.28043889]\n",
      "{'0.3418377777273589_0.8769531058320448_0.20982732285537936_0.7660223180138441': 638, '1.6513525000346565_0.8769531058320448_0.24518463131501794_0.7660223180138441': 422, '1.0429413754840084_0.8769531058320448_0.2522675652800472_0.7660223180138441': 2245, '0.3418377777273589_70.82989957861565_0.20982732285537936_88.05038044267803': 183, '1.0429413754840084_70.82989957861565_0.2522675652800472_88.05038044267803': 38, '1.6513525000346565_70.82989957861565_0.24518463131501794_88.05038044267803': 64, '1.0429413754840084_553.9945316175841_0.2522675652800472_0.001': 3}\n",
      "根据BIC选择的最佳模型的估计均值:  [0.21447008 0.69207174 1.40432062]\n",
      "根据BIC选择的最佳模型的估计方差:  [0.02399639 0.04324955 0.05480378]\n",
      "根据BIC选择的最佳模型的估计权重:  [0.49300861 0.37242696 0.13456443]\n",
      "根据BIC选择的最佳模型的估计均值:  [ 0.06245142 59.25647678  5.57484653]\n",
      "根据BIC选择的最佳模型的估计方差:  [6.13742980e-03 3.67073963e+02 1.81006424e+01]\n",
      "根据BIC选择的最佳模型的估计权重:  [0.63227553 0.04300466 0.3247198 ]\n",
      "{'0.6920717413205268_0.0624514207181639_0.20796525296109_0.07834175002204784': 2462, '1.4043206206455998_0.0624514207181639_0.234102073387604_0.07834175002204784': 1031, '0.21447008170243315_0.0624514207181639_0.15490769339707527_0.07834175002204784': 1251, '1.4043206206455998_5.574846528857607_0.234102073387604_4.25448496984677': 11, '0.6920717413205268_5.574846528857607_0.20796525296109_4.25448496984677': 36, '0.6920717413205268_59.25647677663637_0.20796525296109_19.159174369138483': 10, '0.21447008170243315_5.574846528857607_0.15490769339707527_4.25448496984677': 570, '0.21447008170243315_59.25647677663637_0.15490769339707527_19.159174369138483': 105}\n",
      "根据BIC选择的最佳模型的估计均值:  [1.18573739 0.12299861 0.67245762]\n",
      "根据BIC选择的最佳模型的估计方差:  [0.05649546 0.0055718  0.07243649]\n",
      "根据BIC选择的最佳模型的估计权重:  [0.33900817 0.23006044 0.43093139]\n",
      "根据BIC选择的最佳模型的估计均值:  [4.15248382e-03 1.52979574e+02 1.08782663e+01]\n",
      "根据BIC选择的最佳模型的估计方差:  [1.13916025e-04 2.04438463e+04 1.83735160e+02]\n",
      "根据BIC选择的最佳模型的估计权重:  [0.46235684 0.06680495 0.47083821]\n",
      "{'0.6724576183449654_0.00415248381541582_0.26914027922052614_0.01067314504551155': 716, '1.1857373867002843_10.878266330736228_0.23768773914827807_13.554894310646507': 846, '0.6724576183449654_10.878266330736228_0.26914027922052614_13.554894310646507': 860, '0.122998605923316_0.00415248381541582_0.07464446676522414_0.01067314504551155': 584, '0.122998605923316_10.878266330736228_0.07464446676522414_13.554894310646507': 473, '0.6724576183449654_152.97957402242386_0.26914027922052614_142.9819790129406': 51, '1.1857373867002843_0.00415248381541582_0.23768773914827807_0.01067314504551155': 883, '1.1857373867002843_152.97957402242386_0.23768773914827807_142.9819790129406': 42, '0.122998605923316_152.97957402242386_0.07464446676522414_142.9819790129406': 161}\n",
      "根据BIC选择的最佳模型的估计均值:  [0.83720234 1.34114694 0.24063593]\n",
      "根据BIC选择的最佳模型的估计方差:  [0.03661634 0.05668437 0.02720031]\n",
      "根据BIC选择的最佳模型的估计权重:  [0.39794038 0.24470924 0.35735038]\n",
      "根据BIC选择的最佳模型的估计均值:  [1.51815378e+01 2.83879285e-02 1.05564382e+02]\n",
      "根据BIC选择的最佳模型的估计方差:  [2.52393947e+02 2.66145418e-03 7.33583746e+03]\n",
      "根据BIC选择的最佳模型的估计权重:  [0.39771737 0.55790351 0.04437912]\n",
      "{'0.8372023369949346_0.028387928490423944_0.19135396394527782_0.05158928358480297': 2444, '0.24063593260527444_15.181537812723052_0.1649251618083568_15.88691119899806': 1056, '0.24063593260527444_0.028387928490423944_0.1649251618083568_0.05158928358480297': 282, '0.8372023369949346_15.181537812723052_0.19135396394527782_15.88691119899806': 322, '1.3411469409799597_15.181537812723052_0.23808479117509748_15.88691119899806': 217, '1.3411469409799597_0.028387928490423944_0.23808479117509748_0.05158928358480297': 1370, '0.24063593260527444_105.56438208958879_0.1649251618083568_85.64950353783578': 176, '1.3411469409799597_105.56438208958879_0.23808479117509748_85.64950353783578': 3, '0.8372023369949346_105.56438208958879_0.19135396394527782_85.64950353783578': 8}\n",
      "根据BIC选择的最佳模型的估计均值:  [0.48116488 1.23435827 0.25723934]\n",
      "根据BIC选择的最佳模型的估计方差:  [0.03277512 0.07269863 0.01495397]\n",
      "根据BIC选择的最佳模型的估计权重:  [0.27334613 0.19207256 0.53458131]\n",
      "根据BIC选择的最佳模型的估计均值:  [  0.19888715 125.91274575   8.66729464]\n",
      "根据BIC选择的最佳模型的估计方差:  [7.11314750e-02 6.26413533e+03 3.71051902e+01]\n",
      "根据BIC选择的最佳模型的估计权重:  [0.50080969 0.12149847 0.37769184]\n",
      "{'0.48116488497731197_0.19888715447828428_0.1810389922878551_0.2667048461558036': 656, '1.234358265957019_0.19888715447828428_0.26962682784920616_0.2667048461558036': 200, '0.25723933700000035_0.19888715447828428_0.12228642429038086_0.2667048461558036': 1654, '0.25723933700000035_125.91274574714376_0.12228642429038086_79.1462907130237': 135, '0.25723933700000035_8.667294640995133_0.12228642429038086_6.091402971361323': 445, '0.48116488497731197_125.91274574714376_0.1810389922878551_79.1462907130237': 25, '0.48116488497731197_8.667294640995133_0.1810389922878551_6.091402971361323': 105, '1.234358265957019_8.667294640995133_0.26962682784920616_6.091402971361323': 216, '1.234358265957019_125.91274574714376_0.26962682784920616_79.1462907130237': 10}\n"
     ]
    }
   ],
   "source": [
    "import pandas as pd\n",
    "import torch\n",
    "from test_for_ens_video_new import test_for_ens\n",
    "\n",
    "device = torch.device(\"cuda:5\" if torch.cuda.is_available() else \"cpu\")\n",
    "metrics_all = []\n",
    "for snr in [2, 5]:\n",
    "    for density in ['low', 'high']:\n",
    "        data_dir = f'/data1/jiangy/U-LFormer/data/ensemble_dataset/{snr}-{density}/'\n",
    "        addre = '../model_chkpt/_2024-12-06_14-03-17_k9l/'\n",
    "        metrics = test_for_ens(data_dir, addre, device, num_exp=10, num_fov=1)\n",
    "        metrics_all.extend(metrics)\n",
    "\n"
   ]
  },
  {
   "cell_type": "code",
   "execution_count": 18,
   "metadata": {},
   "outputs": [],
   "source": [
    "df = pd.DataFrame(metrics_all)"
   ]
  },
  {
   "cell_type": "code",
   "execution_count": 19,
   "metadata": {},
   "outputs": [],
   "source": [
    "df['sum'] = df['alpha'] + df['K']\n",
    "df.groupby('data')[['alpha', 'K', 'sum']].mean()\n",
    "df.to_excel('../results/results_ensemble.xlsx')"
   ]
  }
 ],
 "metadata": {
  "kernelspec": {
   "display_name": "andi2",
   "language": "python",
   "name": "python3"
  },
  "language_info": {
   "codemirror_mode": {
    "name": "ipython",
    "version": 3
   },
   "file_extension": ".py",
   "mimetype": "text/x-python",
   "name": "python",
   "nbconvert_exporter": "python",
   "pygments_lexer": "ipython3",
   "version": "3.10.14"
  }
 },
 "nbformat": 4,
 "nbformat_minor": 2
}
